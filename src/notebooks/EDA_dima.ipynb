{
 "cells": [
  {
   "cell_type": "code",
   "execution_count": 1,
   "metadata": {},
   "outputs": [],
   "source": [
    "import os\n",
    "import sys\n",
    "\n",
    "PROJECT_ROOT = os.path.join(os.path.abspath(os.path.dirname('./../../')), 'src')\n",
    "\n",
    "sys.path.append(PROJECT_ROOT)\n",
    "\n",
    "import warnings\n",
    "warnings.filterwarnings('ignore')\n",
    "\n",
    "%load_ext autoreload\n",
    "%autoreload 2"
   ]
  },
  {
   "cell_type": "code",
   "execution_count": 2,
   "metadata": {},
   "outputs": [],
   "source": [
    "from data_utils import *\n",
    "from config import Config\n",
    "from feature_extraction_utils import GlobalClientFeaturesExtractor\n",
    "from matplotlib import pyplot as plt\n",
    "import tqdm"
   ]
  },
  {
   "cell_type": "markdown",
   "metadata": {},
   "source": [
    "**Load data**"
   ]
  },
  {
   "cell_type": "code",
   "execution_count": 3,
   "metadata": {
    "scrolled": true
   },
   "outputs": [
    {
     "name": "stdout",
     "output_type": "stream",
     "text": [
      "Reading groups_desc...\n",
      "Reading train_x...\n",
      "Reading test_x...\n",
      "Reading train_target...\n",
      "Reading test_target...\n",
      "Validation split: by clientID\n",
      "CPU times: user 25.4 s, sys: 5.05 s, total: 30.5 s\n",
      "Wall time: 19.9 s\n"
     ]
    }
   ],
   "source": [
    "%%time\n",
    "cfg = Config()\n",
    "ds = DataSource(cfg['data_source'])\n",
    "ds.read_data()\n",
    "ds.validation_split()"
   ]
  },
  {
   "cell_type": "code",
   "execution_count": 4,
   "metadata": {},
   "outputs": [
    {
     "data": {
      "text/plain": [
       "dict_keys(['groups_desc', 'train_x', 'test_x', 'train_target', 'test_target'])"
      ]
     },
     "execution_count": 4,
     "metadata": {},
     "output_type": "execute_result"
    }
   ],
   "source": [
    "cfg['data_source'].keys()"
   ]
  },
  {
   "cell_type": "code",
   "execution_count": 5,
   "metadata": {},
   "outputs": [
    {
     "name": "stdout",
     "output_type": "stream",
     "text": [
      "Dataset: groups_desc, shape: (204, 2)\n",
      "Dataset: train_x, shape: (21295142, 4)\n",
      "Dataset: test_x, shape: (17667328, 4)\n",
      "Dataset: train_target, shape: (24145, 2)\n",
      "Dataset: test_target, shape: (20000, 1)\n",
      "Dataset: valid_x, shape: (5155435, 4)\n",
      "Dataset: valid_target, shape: (5855, 2)\n"
     ]
    }
   ],
   "source": [
    "print(ds)"
   ]
  },
  {
   "cell_type": "markdown",
   "metadata": {},
   "source": [
    "**Groups descriptions**"
   ]
  },
  {
   "cell_type": "code",
   "execution_count": 6,
   "metadata": {
    "scrolled": true
   },
   "outputs": [],
   "source": [
    "# groups = ds.get_data('groups_desc')\n",
    "# groups"
   ]
  },
  {
   "cell_type": "markdown",
   "metadata": {},
   "source": [
    "**Train target**"
   ]
  },
  {
   "cell_type": "code",
   "execution_count": 6,
   "metadata": {},
   "outputs": [
    {
     "name": "stdout",
     "output_type": "stream",
     "text": [
      "(24145, 2)\n"
     ]
    },
    {
     "data": {
      "text/html": [
       "<div>\n",
       "<style scoped>\n",
       "    .dataframe tbody tr th:only-of-type {\n",
       "        vertical-align: middle;\n",
       "    }\n",
       "\n",
       "    .dataframe tbody tr th {\n",
       "        vertical-align: top;\n",
       "    }\n",
       "\n",
       "    .dataframe thead th {\n",
       "        text-align: right;\n",
       "    }\n",
       "</style>\n",
       "<table border=\"1\" class=\"dataframe\">\n",
       "  <thead>\n",
       "    <tr style=\"text-align: right;\">\n",
       "      <th></th>\n",
       "      <th>client_id</th>\n",
       "      <th>bins</th>\n",
       "    </tr>\n",
       "  </thead>\n",
       "  <tbody>\n",
       "    <tr>\n",
       "      <th>0</th>\n",
       "      <td>1046</td>\n",
       "      <td>0</td>\n",
       "    </tr>\n",
       "    <tr>\n",
       "      <th>1</th>\n",
       "      <td>34089</td>\n",
       "      <td>2</td>\n",
       "    </tr>\n",
       "    <tr>\n",
       "      <th>2</th>\n",
       "      <td>34848</td>\n",
       "      <td>1</td>\n",
       "    </tr>\n",
       "    <tr>\n",
       "      <th>3</th>\n",
       "      <td>47076</td>\n",
       "      <td>3</td>\n",
       "    </tr>\n",
       "    <tr>\n",
       "      <th>4</th>\n",
       "      <td>10938</td>\n",
       "      <td>2</td>\n",
       "    </tr>\n",
       "  </tbody>\n",
       "</table>\n",
       "</div>"
      ],
      "text/plain": [
       "   client_id  bins\n",
       "0       1046     0\n",
       "1      34089     2\n",
       "2      34848     1\n",
       "3      47076     3\n",
       "4      10938     2"
      ]
     },
     "execution_count": 6,
     "metadata": {},
     "output_type": "execute_result"
    }
   ],
   "source": [
    "train_target = ds.get_data('train_target')\n",
    "print(train_target.shape)\n",
    "train_target.head()"
   ]
  },
  {
   "cell_type": "markdown",
   "metadata": {},
   "source": [
    "Train clientID distribution"
   ]
  },
  {
   "cell_type": "code",
   "execution_count": 8,
   "metadata": {},
   "outputs": [],
   "source": [
    "#train_target.client_id.hist(bins=1000);"
   ]
  },
  {
   "cell_type": "code",
   "execution_count": 9,
   "metadata": {},
   "outputs": [],
   "source": [
    "#train_target.bins.hist();"
   ]
  },
  {
   "cell_type": "markdown",
   "metadata": {},
   "source": [
    "**Train transactions**"
   ]
  },
  {
   "cell_type": "code",
   "execution_count": 7,
   "metadata": {},
   "outputs": [
    {
     "data": {
      "text/plain": [
       "(21295142, 4)"
      ]
     },
     "execution_count": 7,
     "metadata": {},
     "output_type": "execute_result"
    }
   ],
   "source": [
    "train_x = ds.get_data('train_x')\n",
    "train_x.shape"
   ]
  },
  {
   "cell_type": "code",
   "execution_count": 11,
   "metadata": {},
   "outputs": [],
   "source": [
    "#train_x.head()"
   ]
  },
  {
   "cell_type": "code",
   "execution_count": 12,
   "metadata": {
    "scrolled": true
   },
   "outputs": [],
   "source": [
    "#train_x.groupby('client_id').trans_date.nunique().hist(bins=100);\n",
    "#train_x.groupby('client_id').trans_date.max().max()#.hist(bins=100);\n",
    "#train_x.groupby('client_id').trans_date.min().min()#.hist(bins=100);\n",
    "#train_x.groupby('client_id').small_group.nunique().hist(bins=100);\n",
    "#train_x.groupby('client_id').amount_rur.max().hist(bins=100);"
   ]
  },
  {
   "cell_type": "markdown",
   "metadata": {},
   "source": [
    "Number of clients which spent huge amounts of money in a single transaction"
   ]
  },
  {
   "cell_type": "code",
   "execution_count": 13,
   "metadata": {},
   "outputs": [],
   "source": [
    "#train_x[train_x.amount_rur > 30000].client_id.nunique()"
   ]
  },
  {
   "cell_type": "markdown",
   "metadata": {},
   "source": [
    "Some groups are popular, some are not"
   ]
  },
  {
   "cell_type": "code",
   "execution_count": 14,
   "metadata": {
    "scrolled": true
   },
   "outputs": [],
   "source": [
    "#train_x.groupby('small_group').client_id.nunique().hist(bins=100)"
   ]
  },
  {
   "cell_type": "markdown",
   "metadata": {},
   "source": [
    "# Features playground"
   ]
  },
  {
   "cell_type": "markdown",
   "metadata": {},
   "source": [
    "**Dummy global features per client**"
   ]
  },
  {
   "cell_type": "code",
   "execution_count": 12,
   "metadata": {},
   "outputs": [
    {
     "name": "stdout",
     "output_type": "stream",
     "text": [
      "Dates features extraction...\n",
      "Money features extraction...\n",
      "Money features, agg level: month\n",
      "amin\n",
      "amax\n",
      "sum\n",
      "std\n",
      "mean\n",
      "median\n",
      "amin\n",
      "amax\n",
      "sum\n",
      "std\n",
      "mean\n",
      "median\n",
      "amin\n",
      "amax\n",
      "sum\n",
      "std\n",
      "mean\n",
      "median\n",
      "amin\n",
      "amax\n",
      "sum\n",
      "std\n",
      "mean\n",
      "median\n",
      "amin\n",
      "amax\n",
      "sum\n",
      "std\n",
      "mean\n",
      "median\n",
      "amin\n",
      "amax\n",
      "sum\n",
      "std\n",
      "mean\n",
      "median\n",
      "amin\n",
      "amax\n",
      "sum\n",
      "std\n",
      "mean\n",
      "median\n",
      "amin\n",
      "amax\n",
      "sum\n",
      "std\n",
      "mean\n",
      "median\n",
      "amin\n",
      "amax\n",
      "sum\n",
      "std\n",
      "mean\n",
      "median\n",
      "amin\n",
      "amax\n",
      "sum\n",
      "std\n",
      "mean\n",
      "median\n",
      "amin\n",
      "amax\n",
      "sum\n",
      "std\n",
      "mean\n",
      "median\n",
      "amin\n",
      "amax\n",
      "sum\n",
      "std\n",
      "mean\n",
      "median\n",
      "amin\n",
      "amax\n",
      "sum\n",
      "std\n",
      "mean\n",
      "median\n",
      "amin\n",
      "amax\n",
      "sum\n",
      "std\n",
      "mean\n",
      "median\n",
      "amin\n",
      "amax\n",
      "sum\n",
      "std\n",
      "mean\n",
      "median\n",
      "amin\n",
      "amax\n",
      "sum\n",
      "std\n",
      "mean\n",
      "median\n",
      "amin\n",
      "amax\n",
      "sum\n",
      "std\n",
      "mean\n",
      "median\n",
      "amin\n",
      "amax\n",
      "sum\n",
      "std\n",
      "mean\n",
      "median\n",
      "amin\n",
      "amax\n",
      "sum\n",
      "std\n",
      "mean\n",
      "median\n",
      "amin\n",
      "amax\n",
      "sum\n",
      "std\n",
      "mean\n",
      "median\n",
      "amin\n",
      "amax\n",
      "sum\n",
      "std\n",
      "mean\n",
      "median\n",
      "amin\n",
      "amax\n",
      "sum\n",
      "std\n",
      "mean\n",
      "median\n",
      "amin\n",
      "amax\n",
      "sum\n",
      "std\n",
      "mean\n",
      "median\n",
      "amin\n",
      "amax\n",
      "sum\n",
      "std\n",
      "mean\n",
      "median\n",
      "amin\n",
      "amax\n",
      "sum\n",
      "std\n",
      "mean\n",
      "median\n",
      "Money features, agg level: quarter\n",
      "amin\n",
      "amax\n",
      "sum\n",
      "std\n",
      "mean\n",
      "median\n",
      "amin\n",
      "amax\n",
      "sum\n",
      "std\n",
      "mean\n",
      "median\n",
      "amin\n",
      "amax\n",
      "sum\n",
      "std\n",
      "mean\n",
      "median\n",
      "amin\n",
      "amax\n",
      "sum\n",
      "std\n",
      "mean\n",
      "median\n",
      "amin\n",
      "amax\n",
      "sum\n",
      "std\n",
      "mean\n",
      "median\n",
      "amin\n",
      "amax\n",
      "sum\n",
      "std\n",
      "mean\n",
      "median\n",
      "amin\n",
      "amax\n",
      "sum\n",
      "std\n",
      "mean\n",
      "median\n",
      "amin\n",
      "amax\n",
      "sum\n",
      "std\n",
      "mean\n",
      "median\n",
      "amin\n",
      "amax\n",
      "sum\n",
      "std\n",
      "mean\n",
      "median\n",
      "Outliers threshold: 500\n",
      "Outliers threshold: 5000\n",
      "Outliers threshold: 10000\n",
      "Outliers threshold: 30000\n",
      "Outliers threshold: 50000\n",
      "Outliers threshold: 100000\n",
      "Outliers threshold: 1000000\n",
      "# features: 708\n",
      "CPU times: user 2min 29s, sys: 21.2 s, total: 2min 50s\n",
      "Wall time: 29.3 s\n"
     ]
    }
   ],
   "source": [
    "%%time\n",
    "extractor = GlobalClientFeaturesExtractor(None)\n",
    "features = extractor.extract(train_x, 3694)\n",
    "print(f'# features: {len(features)}')"
   ]
  },
  {
   "cell_type": "markdown",
   "metadata": {},
   "source": [
    "**Extract features**"
   ]
  },
  {
   "cell_type": "code",
   "execution_count": 16,
   "metadata": {},
   "outputs": [
    {
     "data": {
      "application/vnd.jupyter.widget-view+json": {
       "model_id": "63608b6986dc4bdebe0c691af9dc6241",
       "version_major": 2,
       "version_minor": 0
      },
      "text/plain": [
       "HBox(children=(IntProgress(value=0), HTML(value='')))"
      ]
     },
     "metadata": {},
     "output_type": "display_data"
    },
    {
     "name": "stdout",
     "output_type": "stream",
     "text": [
      "\n"
     ]
    }
   ],
   "source": [
    "params_list = [\n",
    "    (train_x.query(f'client_id == {client_id}'), client_id)\n",
    "    for client_id in tqdm.tqdm_notebook(train_target.client_id.values[:100])\n",
    "]"
   ]
  },
  {
   "cell_type": "code",
   "execution_count": null,
   "metadata": {},
   "outputs": [],
   "source": [
    "from multiprocessing.dummy import Pool as ThreadPool\n",
    "\n",
    "pool = ThreadPool(4)\n",
    "\n",
    "# Open the urls in their own threads\n",
    "# and return the results\n",
    "results = pool.map(, urls)\n",
    "\n",
    "#close the pool and wait for the work to finish \n",
    "pool.close()\n",
    "pool.join()"
   ]
  },
  {
   "cell_type": "code",
   "execution_count": 13,
   "metadata": {},
   "outputs": [],
   "source": [
    "# X_train = np.array([global_extractor.extract(train_x, client_id)\n",
    "#                     for client_id in tqdm.tqdm_notebook(train_target.client_id.values)])\n",
    "# y_train = train_target.bins.values\n",
    "\n",
    "# print(X_train.shape, y_train.shape)"
   ]
  },
  {
   "cell_type": "markdown",
   "metadata": {},
   "source": [
    "**Global features PCA**"
   ]
  },
  {
   "cell_type": "code",
   "execution_count": null,
   "metadata": {},
   "outputs": [],
   "source": [
    "from sklearn.decomposition import PCA\n",
    "from sklearn.preprocessing import StandardScaler\n",
    "\n",
    "pca = "
   ]
  },
  {
   "cell_type": "code",
   "execution_count": null,
   "metadata": {},
   "outputs": [],
   "source": []
  },
  {
   "cell_type": "code",
   "execution_count": null,
   "metadata": {},
   "outputs": [],
   "source": []
  },
  {
   "cell_type": "code",
   "execution_count": null,
   "metadata": {},
   "outputs": [],
   "source": []
  },
  {
   "cell_type": "code",
   "execution_count": null,
   "metadata": {},
   "outputs": [],
   "source": []
  },
  {
   "cell_type": "code",
   "execution_count": null,
   "metadata": {},
   "outputs": [],
   "source": []
  },
  {
   "cell_type": "code",
   "execution_count": null,
   "metadata": {},
   "outputs": [],
   "source": []
  },
  {
   "cell_type": "code",
   "execution_count": null,
   "metadata": {},
   "outputs": [],
   "source": []
  },
  {
   "cell_type": "code",
   "execution_count": null,
   "metadata": {},
   "outputs": [],
   "source": []
  },
  {
   "cell_type": "code",
   "execution_count": null,
   "metadata": {},
   "outputs": [],
   "source": []
  },
  {
   "cell_type": "code",
   "execution_count": null,
   "metadata": {},
   "outputs": [],
   "source": []
  },
  {
   "cell_type": "code",
   "execution_count": null,
   "metadata": {},
   "outputs": [],
   "source": []
  },
  {
   "cell_type": "code",
   "execution_count": null,
   "metadata": {},
   "outputs": [],
   "source": []
  },
  {
   "cell_type": "code",
   "execution_count": null,
   "metadata": {},
   "outputs": [],
   "source": []
  },
  {
   "cell_type": "code",
   "execution_count": null,
   "metadata": {},
   "outputs": [],
   "source": []
  },
  {
   "cell_type": "code",
   "execution_count": null,
   "metadata": {},
   "outputs": [],
   "source": []
  },
  {
   "cell_type": "code",
   "execution_count": null,
   "metadata": {},
   "outputs": [],
   "source": []
  },
  {
   "cell_type": "code",
   "execution_count": null,
   "metadata": {},
   "outputs": [],
   "source": []
  },
  {
   "cell_type": "code",
   "execution_count": null,
   "metadata": {},
   "outputs": [],
   "source": []
  },
  {
   "cell_type": "code",
   "execution_count": null,
   "metadata": {},
   "outputs": [],
   "source": []
  },
  {
   "cell_type": "code",
   "execution_count": null,
   "metadata": {},
   "outputs": [],
   "source": []
  },
  {
   "cell_type": "code",
   "execution_count": null,
   "metadata": {},
   "outputs": [],
   "source": []
  },
  {
   "cell_type": "code",
   "execution_count": null,
   "metadata": {},
   "outputs": [],
   "source": []
  },
  {
   "cell_type": "code",
   "execution_count": null,
   "metadata": {},
   "outputs": [],
   "source": []
  },
  {
   "cell_type": "code",
   "execution_count": null,
   "metadata": {},
   "outputs": [],
   "source": []
  }
 ],
 "metadata": {
  "kernelspec": {
   "display_name": "Python 3",
   "language": "python",
   "name": "python3"
  },
  "language_info": {
   "codemirror_mode": {
    "name": "ipython",
    "version": 3
   },
   "file_extension": ".py",
   "mimetype": "text/x-python",
   "name": "python",
   "nbconvert_exporter": "python",
   "pygments_lexer": "ipython3",
   "version": "3.6.6"
  }
 },
 "nbformat": 4,
 "nbformat_minor": 2
}
