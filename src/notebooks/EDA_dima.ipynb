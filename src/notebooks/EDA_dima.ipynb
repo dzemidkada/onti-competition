{
 "cells": [
  {
   "cell_type": "code",
   "execution_count": null,
   "metadata": {},
   "outputs": [],
   "source": [
    "import os\n",
    "import sys\n",
    "\n",
    "PROJECT_ROOT = os.path.join(os.path.abspath(os.path.dirname('./../../')), 'src')\n",
    "\n",
    "sys.path.append(PROJECT_ROOT)\n",
    "\n",
    "import warnings\n",
    "warnings.filterwarnings('ignore')\n",
    "\n",
    "%load_ext autoreload\n",
    "%autoreload 2"
   ]
  },
  {
   "cell_type": "code",
   "execution_count": 2,
   "metadata": {},
   "outputs": [],
   "source": [
    "from data_utils import *\n",
    "from config import Config\n",
    "from feature_extraction_utils import GlobalClientFeaturesExtractor\n",
    "from matplotlib import pyplot as plt"
   ]
  },
  {
   "cell_type": "markdown",
   "metadata": {},
   "source": [
    "**Load data**"
   ]
  },
  {
   "cell_type": "code",
   "execution_count": 3,
   "metadata": {},
   "outputs": [
    {
     "name": "stdout",
     "output_type": "stream",
     "text": [
      "Reading groups_desc...\n",
      "Reading train_x...\n",
      "Reading test_x...\n",
      "Reading train_target...\n",
      "Reading test_target...\n",
      "Validation split: by clientID\n",
      "CPU times: user 27.3 s, sys: 4.65 s, total: 31.9 s\n",
      "Wall time: 21 s\n"
     ]
    }
   ],
   "source": [
    "%%time\n",
    "cfg = Config()\n",
    "ds = DataSource(cfg['data_source'])\n",
    "ds.read_data()\n",
    "ds.validation_split()"
   ]
  },
  {
   "cell_type": "code",
   "execution_count": 4,
   "metadata": {},
   "outputs": [
    {
     "data": {
      "text/plain": [
       "dict_keys(['groups_desc', 'train_x', 'test_x', 'train_target', 'test_target'])"
      ]
     },
     "execution_count": 4,
     "metadata": {},
     "output_type": "execute_result"
    }
   ],
   "source": [
    "cfg['data_source'].keys()"
   ]
  },
  {
   "cell_type": "code",
   "execution_count": 5,
   "metadata": {},
   "outputs": [
    {
     "name": "stdout",
     "output_type": "stream",
     "text": [
      "Dataset: groups_desc, shape: (204, 2)\n",
      "Dataset: train_x, shape: (21295142, 4)\n",
      "Dataset: test_x, shape: (17667328, 4)\n",
      "Dataset: train_target, shape: (24145, 2)\n",
      "Dataset: test_target, shape: (20000, 1)\n",
      "Dataset: valid_x, shape: (5155435, 4)\n",
      "Dataset: valid_target, shape: (5855, 2)\n"
     ]
    }
   ],
   "source": [
    "print(ds)"
   ]
  },
  {
   "cell_type": "markdown",
   "metadata": {},
   "source": [
    "**Groups descriptions**"
   ]
  },
  {
   "cell_type": "code",
   "execution_count": 6,
   "metadata": {
    "scrolled": true
   },
   "outputs": [],
   "source": [
    "# groups = ds.get_data('groups_desc')\n",
    "# groups"
   ]
  },
  {
   "cell_type": "markdown",
   "metadata": {},
   "source": [
    "**Train target**"
   ]
  },
  {
   "cell_type": "code",
   "execution_count": 7,
   "metadata": {},
   "outputs": [],
   "source": [
    "# train_target = ds.get_data('train_target')\n",
    "# print(train_target.shape)\n",
    "# train_target.head()"
   ]
  },
  {
   "cell_type": "markdown",
   "metadata": {},
   "source": [
    "Train clientID distribution"
   ]
  },
  {
   "cell_type": "code",
   "execution_count": 8,
   "metadata": {},
   "outputs": [],
   "source": [
    "#train_target.client_id.hist(bins=1000);"
   ]
  },
  {
   "cell_type": "code",
   "execution_count": 9,
   "metadata": {},
   "outputs": [],
   "source": [
    "#train_target.bins.hist();"
   ]
  },
  {
   "cell_type": "markdown",
   "metadata": {},
   "source": [
    "**Train transactions**"
   ]
  },
  {
   "cell_type": "code",
   "execution_count": 10,
   "metadata": {},
   "outputs": [
    {
     "data": {
      "text/plain": [
       "(21295142, 4)"
      ]
     },
     "execution_count": 10,
     "metadata": {},
     "output_type": "execute_result"
    }
   ],
   "source": [
    "train_x = ds.get_data('train_x')\n",
    "train_x.shape"
   ]
  },
  {
   "cell_type": "code",
   "execution_count": 11,
   "metadata": {},
   "outputs": [],
   "source": [
    "#train_x.head()"
   ]
  },
  {
   "cell_type": "code",
   "execution_count": 12,
   "metadata": {
    "scrolled": true
   },
   "outputs": [],
   "source": [
    "#train_x.groupby('client_id').trans_date.nunique().hist(bins=100);"
   ]
  },
  {
   "cell_type": "code",
   "execution_count": 13,
   "metadata": {},
   "outputs": [],
   "source": [
    "#train_x.groupby('client_id').trans_date.max().max()#.hist(bins=100);"
   ]
  },
  {
   "cell_type": "code",
   "execution_count": 14,
   "metadata": {},
   "outputs": [],
   "source": [
    "#train_x.groupby('client_id').trans_date.min().min()#.hist(bins=100);"
   ]
  },
  {
   "cell_type": "code",
   "execution_count": 15,
   "metadata": {
    "scrolled": true
   },
   "outputs": [],
   "source": [
    "#train_x.groupby('client_id').small_group.nunique().hist(bins=100);"
   ]
  },
  {
   "cell_type": "code",
   "execution_count": 16,
   "metadata": {},
   "outputs": [],
   "source": [
    "#train_x.groupby('client_id').amount_rur.max().hist(bins=100);"
   ]
  },
  {
   "cell_type": "markdown",
   "metadata": {},
   "source": [
    "Number of clients which spent huge amounts of money in a single transaction"
   ]
  },
  {
   "cell_type": "code",
   "execution_count": 17,
   "metadata": {},
   "outputs": [],
   "source": [
    "#train_x[train_x.amount_rur > 30000].client_id.nunique()"
   ]
  },
  {
   "cell_type": "markdown",
   "metadata": {},
   "source": [
    "Some groups are popular, some are not"
   ]
  },
  {
   "cell_type": "code",
   "execution_count": 18,
   "metadata": {
    "scrolled": true
   },
   "outputs": [],
   "source": [
    "#train_x.groupby('small_group').client_id.nunique().hist(bins=100)"
   ]
  },
  {
   "cell_type": "markdown",
   "metadata": {},
   "source": [
    "# Features playground"
   ]
  },
  {
   "cell_type": "code",
   "execution_count": 19,
   "metadata": {},
   "outputs": [
    {
     "data": {
      "text/html": [
       "<div>\n",
       "<style scoped>\n",
       "    .dataframe tbody tr th:only-of-type {\n",
       "        vertical-align: middle;\n",
       "    }\n",
       "\n",
       "    .dataframe tbody tr th {\n",
       "        vertical-align: top;\n",
       "    }\n",
       "\n",
       "    .dataframe thead th {\n",
       "        text-align: right;\n",
       "    }\n",
       "</style>\n",
       "<table border=\"1\" class=\"dataframe\">\n",
       "  <thead>\n",
       "    <tr style=\"text-align: right;\">\n",
       "      <th></th>\n",
       "      <th>client_id</th>\n",
       "      <th>trans_date</th>\n",
       "      <th>small_group</th>\n",
       "      <th>amount_rur</th>\n",
       "    </tr>\n",
       "  </thead>\n",
       "  <tbody>\n",
       "    <tr>\n",
       "      <th>0</th>\n",
       "      <td>3694</td>\n",
       "      <td>26</td>\n",
       "      <td>1</td>\n",
       "      <td>10.006</td>\n",
       "    </tr>\n",
       "    <tr>\n",
       "      <th>1</th>\n",
       "      <td>3694</td>\n",
       "      <td>29</td>\n",
       "      <td>3</td>\n",
       "      <td>54.955</td>\n",
       "    </tr>\n",
       "    <tr>\n",
       "      <th>2</th>\n",
       "      <td>3694</td>\n",
       "      <td>31</td>\n",
       "      <td>1</td>\n",
       "      <td>10.945</td>\n",
       "    </tr>\n",
       "    <tr>\n",
       "      <th>3</th>\n",
       "      <td>3694</td>\n",
       "      <td>34</td>\n",
       "      <td>36</td>\n",
       "      <td>61.721</td>\n",
       "    </tr>\n",
       "    <tr>\n",
       "      <th>4</th>\n",
       "      <td>3694</td>\n",
       "      <td>36</td>\n",
       "      <td>25</td>\n",
       "      <td>4.579</td>\n",
       "    </tr>\n",
       "  </tbody>\n",
       "</table>\n",
       "</div>"
      ],
      "text/plain": [
       "   client_id  trans_date  small_group  amount_rur\n",
       "0       3694          26            1      10.006\n",
       "1       3694          29            3      54.955\n",
       "2       3694          31            1      10.945\n",
       "3       3694          34           36      61.721\n",
       "4       3694          36           25       4.579"
      ]
     },
     "execution_count": 19,
     "metadata": {},
     "output_type": "execute_result"
    }
   ],
   "source": [
    "train_x.head()"
   ]
  },
  {
   "cell_type": "code",
   "execution_count": 32,
   "metadata": {},
   "outputs": [],
   "source": [
    "from functools import partial\n",
    "import pandas as pd\n",
    "import numpy as np\n",
    "import tqdm\n",
    "\n",
    "PERCENTILES = (10, 33, 66, 90, 95)\n",
    "HIGH_LEVEL_STATS = (np.min, np.max, np.std, np.mean, np.median, *[partial(np.percentile, q=p) for p in PERCENTILES])\n",
    "\n",
    "def convert_dates(dates, output=None):\n",
    "    if output == 'day_of_week':\n",
    "        return dates % 7\n",
    "    if output == 'month':\n",
    "        return (dates // 30) % 12\n",
    "    if output == 'quarter':\n",
    "        return (dates // 90) % 4\n",
    "    return dates\n",
    "\n",
    "class GlobalClientFeaturesExtractor:\n",
    "    AGG_LEVELS = (('month', 30), ('quarter', 90))\n",
    "    def __init__(self, cfg=None):\n",
    "        self._cfg = cfg\n",
    "    \n",
    "    def extract(self, df, client_id):\n",
    "        transactions = df.query(f'client_id')\n",
    "        n = transactions.shape[0]\n",
    "        features = []\n",
    "        \n",
    "        ############################################\n",
    "        # Dates ####################################\n",
    "        ############################################\n",
    "        print('Dates features extraction...')\n",
    "        t_dates = transactions.trans_date\n",
    "        \n",
    "        unique_dates = t_dates.nunique()\n",
    "        period_length = t_dates.max() - t_dates.min() + 1\n",
    "        \n",
    "        # fraction of transactions for a week day\n",
    "        dow_dates = convert_dates(t_dates, 'day_of_week')\n",
    "        week_day_fracs = np.array([(dow_dates == day_of_week).sum() / n for day_of_week in range(7)])\n",
    "        # fraction of transactions for a month\n",
    "        m_dates = convert_dates(t_dates, 'month')\n",
    "        month_fracs = np.array([(m_dates == month).sum() / n for month in range(12)])\n",
    "        # fraction of transactions for a quarter\n",
    "        q_dates = convert_dates(t_dates, 'quarter')\n",
    "        quarter_fracs = np.array([(q_dates == quarter).sum() / n for quarter in range(4)])\n",
    "        transactions_per_day_info = transactions.groupby('trans_date').trans_date.count().describe()\n",
    "        \n",
    "        features.extend([\n",
    "            period_length,\n",
    "            unique_dates / period_length, # prob of [>=1] transactions for a given day\n",
    "            *list(week_day_fracs), week_day_fracs.mean(), week_day_fracs.std(), week_day_fracs.min(), week_day_fracs.max(),\n",
    "            *list(month_fracs), month_fracs.mean(), month_fracs.std(), month_fracs.min(), month_fracs.max(),\n",
    "            *list(quarter_fracs), quarter_fracs.mean(), quarter_fracs.std(), quarter_fracs.min(), quarter_fracs.max(),\n",
    "            *list(transactions_per_day_info)\n",
    "        ])\n",
    "        \n",
    "        ############################################\n",
    "        # Money ####################################\n",
    "        ############################################\n",
    "        print('Money features extraction...')\n",
    "        money = transactions.amount_rur\n",
    "        \n",
    "        week_day_money_stats = np.array([list(money[dow_dates == day_of_week].describe()) for day_of_week in range(7)]).ravel()\n",
    "        month_money_stats = np.array([list(money[m_dates == month].describe()) for month in range(12)]).ravel()\n",
    "        quarter_money_stats = np.array([list(money[q_dates == quarter].describe()) for quarter in range(4)]).ravel()\n",
    "        \n",
    "        agg_features = []\n",
    "        for name, duration in tqdm.tqdm_notebook(self.AGG_LEVELS):\n",
    "            print(f'Money features, agg level: {name}')\n",
    "            buckets = transactions.assign(bucket_id = transactions.trans_date // duration)\n",
    "            for bucker_id, bucket_df in buckets.groupby('bucket_id'):\n",
    "                bucket_money = bucket_df.amount_rur.values\n",
    "                for _ in tqdm.tqdm_notebook(HIGH_LEVEL_STATS):\n",
    "                    agg_features.append(_(bucket_money))\n",
    "        \n",
    "        features.extend([\n",
    "            *list(money.describe()), *list(week_day_money_stats), *list(month_money_stats), *list(quarter_money_stats),\n",
    "            *agg_features,\n",
    "            # TODO(dzmr): Add more aggregations\n",
    "        ])    \n",
    "        \n",
    "        # TODO(dzmr): Outliers\n",
    "        # TODO(dzmr): Groups\n",
    "        # TODO(dzmr): Clients clustering\n",
    "        \n",
    "        return features"
   ]
  },
  {
   "cell_type": "code",
   "execution_count": 33,
   "metadata": {},
   "outputs": [
    {
     "name": "stdout",
     "output_type": "stream",
     "text": [
      "Dates features extraction...\n",
      "Money features extraction...\n"
     ]
    },
    {
     "data": {
      "application/vnd.jupyter.widget-view+json": {
       "model_id": "a4fc18b2cf194121adaf96da8eb23751",
       "version_major": 2,
       "version_minor": 0
      },
      "text/plain": [
       "HBox(children=(IntProgress(value=0, max=2), HTML(value='')))"
      ]
     },
     "metadata": {},
     "output_type": "display_data"
    },
    {
     "name": "stdout",
     "output_type": "stream",
     "text": [
      "Money features, agg level: month\n"
     ]
    },
    {
     "data": {
      "application/vnd.jupyter.widget-view+json": {
       "model_id": "ffbe39d8cb4d4268a6bb281775bab3b9",
       "version_major": 2,
       "version_minor": 0
      },
      "text/plain": [
       "HBox(children=(IntProgress(value=0, max=10), HTML(value='')))"
      ]
     },
     "metadata": {},
     "output_type": "display_data"
    },
    {
     "data": {
      "application/vnd.jupyter.widget-view+json": {
       "model_id": "ceaef4cce3ea4823b2bb0860b9fad494",
       "version_major": 2,
       "version_minor": 0
      },
      "text/plain": [
       "HBox(children=(IntProgress(value=0, max=10), HTML(value='')))"
      ]
     },
     "metadata": {},
     "output_type": "display_data"
    },
    {
     "data": {
      "application/vnd.jupyter.widget-view+json": {
       "model_id": "8c09be07bc1b4a6d906cfac78f49665f",
       "version_major": 2,
       "version_minor": 0
      },
      "text/plain": [
       "HBox(children=(IntProgress(value=0, max=10), HTML(value='')))"
      ]
     },
     "metadata": {},
     "output_type": "display_data"
    },
    {
     "data": {
      "application/vnd.jupyter.widget-view+json": {
       "model_id": "bf9afce17b774d02b5919aa2830f8c04",
       "version_major": 2,
       "version_minor": 0
      },
      "text/plain": [
       "HBox(children=(IntProgress(value=0, max=10), HTML(value='')))"
      ]
     },
     "metadata": {},
     "output_type": "display_data"
    },
    {
     "data": {
      "application/vnd.jupyter.widget-view+json": {
       "model_id": "2286fc9e6bce48ecbdd81091206c1aa9",
       "version_major": 2,
       "version_minor": 0
      },
      "text/plain": [
       "HBox(children=(IntProgress(value=0, max=10), HTML(value='')))"
      ]
     },
     "metadata": {},
     "output_type": "display_data"
    },
    {
     "data": {
      "application/vnd.jupyter.widget-view+json": {
       "model_id": "47b713e30c9640ff8bdb934abcaa0a7a",
       "version_major": 2,
       "version_minor": 0
      },
      "text/plain": [
       "HBox(children=(IntProgress(value=0, max=10), HTML(value='')))"
      ]
     },
     "metadata": {},
     "output_type": "display_data"
    },
    {
     "data": {
      "application/vnd.jupyter.widget-view+json": {
       "model_id": "a72bb29cfbe94a1580e760477270c228",
       "version_major": 2,
       "version_minor": 0
      },
      "text/plain": [
       "HBox(children=(IntProgress(value=0, max=10), HTML(value='')))"
      ]
     },
     "metadata": {},
     "output_type": "display_data"
    },
    {
     "data": {
      "application/vnd.jupyter.widget-view+json": {
       "model_id": "951106579a3c4ca580ea883a6420cfe7",
       "version_major": 2,
       "version_minor": 0
      },
      "text/plain": [
       "HBox(children=(IntProgress(value=0, max=10), HTML(value='')))"
      ]
     },
     "metadata": {},
     "output_type": "display_data"
    },
    {
     "data": {
      "application/vnd.jupyter.widget-view+json": {
       "model_id": "ae94825172e5453ca5c0bf0fecf001b7",
       "version_major": 2,
       "version_minor": 0
      },
      "text/plain": [
       "HBox(children=(IntProgress(value=0, max=10), HTML(value='')))"
      ]
     },
     "metadata": {},
     "output_type": "display_data"
    },
    {
     "data": {
      "application/vnd.jupyter.widget-view+json": {
       "model_id": "fb52b119f3ef471dbf5713e0f30eb0e2",
       "version_major": 2,
       "version_minor": 0
      },
      "text/plain": [
       "HBox(children=(IntProgress(value=0, max=10), HTML(value='')))"
      ]
     },
     "metadata": {},
     "output_type": "display_data"
    },
    {
     "data": {
      "application/vnd.jupyter.widget-view+json": {
       "model_id": "82a8e31bc4434bacb26dc320f4b752ea",
       "version_major": 2,
       "version_minor": 0
      },
      "text/plain": [
       "HBox(children=(IntProgress(value=0, max=10), HTML(value='')))"
      ]
     },
     "metadata": {},
     "output_type": "display_data"
    },
    {
     "data": {
      "application/vnd.jupyter.widget-view+json": {
       "model_id": "b13110fdef794f69ba378482823894a9",
       "version_major": 2,
       "version_minor": 0
      },
      "text/plain": [
       "HBox(children=(IntProgress(value=0, max=10), HTML(value='')))"
      ]
     },
     "metadata": {},
     "output_type": "display_data"
    },
    {
     "data": {
      "application/vnd.jupyter.widget-view+json": {
       "model_id": "da3348fe21d247b6b1db2af17bb1cec5",
       "version_major": 2,
       "version_minor": 0
      },
      "text/plain": [
       "HBox(children=(IntProgress(value=0, max=10), HTML(value='')))"
      ]
     },
     "metadata": {},
     "output_type": "display_data"
    },
    {
     "data": {
      "application/vnd.jupyter.widget-view+json": {
       "model_id": "b7bb466218a4466cbf967a6b20e614d0",
       "version_major": 2,
       "version_minor": 0
      },
      "text/plain": [
       "HBox(children=(IntProgress(value=0, max=10), HTML(value='')))"
      ]
     },
     "metadata": {},
     "output_type": "display_data"
    },
    {
     "data": {
      "application/vnd.jupyter.widget-view+json": {
       "model_id": "3211244f1583466184adb4201c6bf64b",
       "version_major": 2,
       "version_minor": 0
      },
      "text/plain": [
       "HBox(children=(IntProgress(value=0, max=10), HTML(value='')))"
      ]
     },
     "metadata": {},
     "output_type": "display_data"
    },
    {
     "data": {
      "application/vnd.jupyter.widget-view+json": {
       "model_id": "cb500191305f4cb5a5f7578b7fc53fe5",
       "version_major": 2,
       "version_minor": 0
      },
      "text/plain": [
       "HBox(children=(IntProgress(value=0, max=10), HTML(value='')))"
      ]
     },
     "metadata": {},
     "output_type": "display_data"
    },
    {
     "data": {
      "application/vnd.jupyter.widget-view+json": {
       "model_id": "2507f481636d499fafb0c5f500ebc061",
       "version_major": 2,
       "version_minor": 0
      },
      "text/plain": [
       "HBox(children=(IntProgress(value=0, max=10), HTML(value='')))"
      ]
     },
     "metadata": {},
     "output_type": "display_data"
    },
    {
     "data": {
      "application/vnd.jupyter.widget-view+json": {
       "model_id": "6bbb1c9adb254be6a44034dfc755de52",
       "version_major": 2,
       "version_minor": 0
      },
      "text/plain": [
       "HBox(children=(IntProgress(value=0, max=10), HTML(value='')))"
      ]
     },
     "metadata": {},
     "output_type": "display_data"
    },
    {
     "data": {
      "application/vnd.jupyter.widget-view+json": {
       "model_id": "6ea11fa043fb48eaaaa676c8dc085b36",
       "version_major": 2,
       "version_minor": 0
      },
      "text/plain": [
       "HBox(children=(IntProgress(value=0, max=10), HTML(value='')))"
      ]
     },
     "metadata": {},
     "output_type": "display_data"
    },
    {
     "data": {
      "application/vnd.jupyter.widget-view+json": {
       "model_id": "5151622f6756494791598a749d7fabf0",
       "version_major": 2,
       "version_minor": 0
      },
      "text/plain": [
       "HBox(children=(IntProgress(value=0, max=10), HTML(value='')))"
      ]
     },
     "metadata": {},
     "output_type": "display_data"
    },
    {
     "data": {
      "application/vnd.jupyter.widget-view+json": {
       "model_id": "f2881c44ea54459a9b46df9260fee292",
       "version_major": 2,
       "version_minor": 0
      },
      "text/plain": [
       "HBox(children=(IntProgress(value=0, max=10), HTML(value='')))"
      ]
     },
     "metadata": {},
     "output_type": "display_data"
    },
    {
     "data": {
      "application/vnd.jupyter.widget-view+json": {
       "model_id": "279626c5dc2947609d231c8f3e56ac4b",
       "version_major": 2,
       "version_minor": 0
      },
      "text/plain": [
       "HBox(children=(IntProgress(value=0, max=10), HTML(value='')))"
      ]
     },
     "metadata": {},
     "output_type": "display_data"
    },
    {
     "data": {
      "application/vnd.jupyter.widget-view+json": {
       "model_id": "8e20cf740da64dc1a210ea0d0262e570",
       "version_major": 2,
       "version_minor": 0
      },
      "text/plain": [
       "HBox(children=(IntProgress(value=0, max=10), HTML(value='')))"
      ]
     },
     "metadata": {},
     "output_type": "display_data"
    },
    {
     "data": {
      "application/vnd.jupyter.widget-view+json": {
       "model_id": "3258296c85e7469f86d62ec0433e8449",
       "version_major": 2,
       "version_minor": 0
      },
      "text/plain": [
       "HBox(children=(IntProgress(value=0, max=10), HTML(value='')))"
      ]
     },
     "metadata": {},
     "output_type": "display_data"
    },
    {
     "data": {
      "application/vnd.jupyter.widget-view+json": {
       "model_id": "c3348664c9bd467cb2da98baa5d15e49",
       "version_major": 2,
       "version_minor": 0
      },
      "text/plain": [
       "HBox(children=(IntProgress(value=0, max=10), HTML(value='')))"
      ]
     },
     "metadata": {},
     "output_type": "display_data"
    },
    {
     "name": "stdout",
     "output_type": "stream",
     "text": [
      "Money features, agg level: quarter\n"
     ]
    },
    {
     "data": {
      "application/vnd.jupyter.widget-view+json": {
       "model_id": "736be727fdcd41fab4088bdd7a70185c",
       "version_major": 2,
       "version_minor": 0
      },
      "text/plain": [
       "HBox(children=(IntProgress(value=0, max=10), HTML(value='')))"
      ]
     },
     "metadata": {},
     "output_type": "display_data"
    },
    {
     "data": {
      "application/vnd.jupyter.widget-view+json": {
       "model_id": "4abf1946f7a340ec8bb09c4ce1297944",
       "version_major": 2,
       "version_minor": 0
      },
      "text/plain": [
       "HBox(children=(IntProgress(value=0, max=10), HTML(value='')))"
      ]
     },
     "metadata": {},
     "output_type": "display_data"
    },
    {
     "data": {
      "application/vnd.jupyter.widget-view+json": {
       "model_id": "daa4b854c85d417b9a169d60b7e6a524",
       "version_major": 2,
       "version_minor": 0
      },
      "text/plain": [
       "HBox(children=(IntProgress(value=0, max=10), HTML(value='')))"
      ]
     },
     "metadata": {},
     "output_type": "display_data"
    },
    {
     "data": {
      "application/vnd.jupyter.widget-view+json": {
       "model_id": "adb359de92674d5d961f35578d227efa",
       "version_major": 2,
       "version_minor": 0
      },
      "text/plain": [
       "HBox(children=(IntProgress(value=0, max=10), HTML(value='')))"
      ]
     },
     "metadata": {},
     "output_type": "display_data"
    },
    {
     "data": {
      "application/vnd.jupyter.widget-view+json": {
       "model_id": "12ab76b432704135892321ab15c552fb",
       "version_major": 2,
       "version_minor": 0
      },
      "text/plain": [
       "HBox(children=(IntProgress(value=0, max=10), HTML(value='')))"
      ]
     },
     "metadata": {},
     "output_type": "display_data"
    },
    {
     "data": {
      "application/vnd.jupyter.widget-view+json": {
       "model_id": "e8b1609dd5504df0820a8bfb98189e81",
       "version_major": 2,
       "version_minor": 0
      },
      "text/plain": [
       "HBox(children=(IntProgress(value=0, max=10), HTML(value='')))"
      ]
     },
     "metadata": {},
     "output_type": "display_data"
    },
    {
     "data": {
      "application/vnd.jupyter.widget-view+json": {
       "model_id": "4e7a1a5337e8435ab68c630fae496ac9",
       "version_major": 2,
       "version_minor": 0
      },
      "text/plain": [
       "HBox(children=(IntProgress(value=0, max=10), HTML(value='')))"
      ]
     },
     "metadata": {},
     "output_type": "display_data"
    },
    {
     "data": {
      "application/vnd.jupyter.widget-view+json": {
       "model_id": "597041567a9f4830bfbb777f8c808bc3",
       "version_major": 2,
       "version_minor": 0
      },
      "text/plain": [
       "HBox(children=(IntProgress(value=0, max=10), HTML(value='')))"
      ]
     },
     "metadata": {},
     "output_type": "display_data"
    },
    {
     "data": {
      "application/vnd.jupyter.widget-view+json": {
       "model_id": "92264cb1d9a44a97a48cbcc6f07b6a7e",
       "version_major": 2,
       "version_minor": 0
      },
      "text/plain": [
       "HBox(children=(IntProgress(value=0, max=10), HTML(value='')))"
      ]
     },
     "metadata": {},
     "output_type": "display_data"
    },
    {
     "name": "stdout",
     "output_type": "stream",
     "text": [
      "\n"
     ]
    }
   ],
   "source": [
    "global_extractor = GlobalClientFeaturesExtractor(None)\n",
    "features = global_extractor.extract(train_x, 3694)"
   ]
  },
  {
   "cell_type": "code",
   "execution_count": 35,
   "metadata": {},
   "outputs": [
    {
     "name": "stdout",
     "output_type": "stream",
     "text": [
      "577\n"
     ]
    },
    {
     "data": {
      "text/plain": [
       "[730,\n",
       " 1.0,\n",
       " 0.1294300831616901,\n",
       " 0.14029354676291897,\n",
       " 0.1399529996090188,\n",
       " 0.14317617604991786,\n",
       " 0.1477848797627177,\n",
       " 0.15297808298249432,\n",
       " 0.1463842316712422,\n",
       " 0.14285714285714285,\n",
       " 0.006913239500277161,\n",
       " 0.1294300831616901,\n",
       " 0.15297808298249432,\n",
       " 0.09243267783797826,\n",
       " 0.07681728536959274,\n",
       " 0.0787579627315939,\n",
       " 0.08066952547205368,\n",
       " 0.08331482363442329,\n",
       " 0.0806593353545142,\n",
       " 0.08027525714550295,\n",
       " 0.07709495433277692,\n",
       " 0.08714508689352717,\n",
       " 0.08142082358502235,\n",
       " 0.08721890654685467,\n",
       " 0.09419336109615986,\n",
       " 0.08333333333333333,\n",
       " 0.0054767059078878935,\n",
       " 0.07681728536959274,\n",
       " 0.09419336109615986,\n",
       " 0.2480079259391649,\n",
       " 0.24464368446099116,\n",
       " 0.24451529837180705,\n",
       " 0.2628330912280369,\n",
       " 0.25,\n",
       " 0.007540368983589252,\n",
       " 0.24451529837180705,\n",
       " 0.2628330912280369,\n",
       " 730.0,\n",
       " 29171.427397260275,\n",
       " 6871.238399258201,\n",
       " 8900.0,\n",
       " 24416.5,\n",
       " 28865.5,\n",
       " 33917.0,\n",
       " 50387.0,\n",
       " 21295142.0,\n",
       " 59.33464234673788,\n",
       " 169.0539297447481,\n",
       " 0.043,\n",
       " 11.040999999999999,\n",
       " 23.791,\n",
       " 54.038000000000004,\n",
       " 6508.428000000001,\n",
       " 2756232.0,\n",
       " 68.80770821687,\n",
       " 163.1144810930729,\n",
       " 0.043,\n",
       " 13.142999999999999,\n",
       " 29.767,\n",
       " 67.067,\n",
       " 4777.157999999999,\n",
       " 2987571.0,\n",
       " 50.01108795171724,\n",
       " 159.3404371798285,\n",
       " 0.043,\n",
       " 10.181000000000001,\n",
       " 21.295,\n",
       " 45.802,\n",
       " 4711.7390000000005,\n",
       " 2980319.0,\n",
       " 55.01989725093181,\n",
       " 195.4538524600657,\n",
       " 0.043,\n",
       " 10.029,\n",
       " 21.397,\n",
       " 45.845,\n",
       " 6508.428000000001,\n",
       " 3048957.0,\n",
       " 53.0164045206279,\n",
       " 138.07460108642633,\n",
       " 0.043,\n",
       " 10.487,\n",
       " 21.564,\n",
       " 47.611999999999995,\n",
       " 2836.028,\n",
       " 3147100.0,\n",
       " 56.04252807854852,\n",
       " 165.51298878199069,\n",
       " 0.043,\n",
       " 10.533,\n",
       " 22.44,\n",
       " 48.388999999999996,\n",
       " 4502.317,\n",
       " 3257690.0,\n",
       " 56.49379820271422,\n",
       " 153.0012051998229,\n",
       " 0.043,\n",
       " 10.954,\n",
       " 24.973000000000003,\n",
       " 54.858000000000004,\n",
       " 3252.472,\n",
       " 3117273.0,\n",
       " 76.49174345654039,\n",
       " 198.87746582090153,\n",
       " 0.043,\n",
       " 13.418,\n",
       " 31.741999999999997,\n",
       " 71.413,\n",
       " 4727.862,\n",
       " 1968367.0,\n",
       " 63.2007770171924,\n",
       " 190.5190875277738,\n",
       " 0.043,\n",
       " 12.937999999999999,\n",
       " 27.405,\n",
       " 59.488,\n",
       " 6508.428000000001,\n",
       " 1635835.0,\n",
       " 53.050050243453654,\n",
       " 139.49358102990485,\n",
       " 0.045,\n",
       " 11.084000000000001,\n",
       " 23.478,\n",
       " 52.184,\n",
       " 3264.0690000000004,\n",
       " 1677162.0,\n",
       " 61.22337507766095,\n",
       " 135.19206746103944,\n",
       " 0.043,\n",
       " 11.357000000000001,\n",
       " 24.221999999999998,\n",
       " 56.066,\n",
       " 2173.2,\n",
       " 1717869.0,\n",
       " 53.8676084765486,\n",
       " 112.97805244099776,\n",
       " 0.045,\n",
       " 10.853,\n",
       " 23.104,\n",
       " 54.038000000000004,\n",
       " 1897.614,\n",
       " 1774201.0,\n",
       " 61.645704813039835,\n",
       " 164.33730634080243,\n",
       " 0.045,\n",
       " 11.77,\n",
       " 24.973000000000003,\n",
       " 57.153,\n",
       " 3068.283,\n",
       " 1717652.0,\n",
       " 60.57119197893403,\n",
       " 171.40454621460648,\n",
       " 0.045,\n",
       " 10.524000000000001,\n",
       " 23.504,\n",
       " 53.483000000000004,\n",
       " 3352.489,\n",
       " 1709473.0,\n",
       " 60.15225532079184,\n",
       " 181.0878591978703,\n",
       " 0.043,\n",
       " 11.001,\n",
       " 24.156999999999996,\n",
       " 54.211000000000006,\n",
       " 3920.7290000000003,\n",
       " 1641748.0,\n",
       " 62.09608239327834,\n",
       " 231.3193460588571,\n",
       " 0.045,\n",
       " 9.919,\n",
       " 22.595,\n",
       " 51.224,\n",
       " 4777.157999999999,\n",
       " 1855767.0,\n",
       " 56.00640569802139,\n",
       " 128.91529126229432,\n",
       " 0.043,\n",
       " 10.276,\n",
       " 22.898000000000003,\n",
       " 52.699,\n",
       " 2954.3,\n",
       " 1733868.0,\n",
       " 47.16542222418318,\n",
       " 135.86369315534836,\n",
       " 0.043,\n",
       " 10.181000000000001,\n",
       " 22.486,\n",
       " 47.397,\n",
       " 4547.105,\n",
       " 1857339.0,\n",
       " 68.67549470236717,\n",
       " 197.76226305494976,\n",
       " 0.043,\n",
       " 11.126,\n",
       " 23.763,\n",
       " 54.378,\n",
       " 3228.567,\n",
       " 2005861.0,\n",
       " 62.65796211901021,\n",
       " 192.50062619886725,\n",
       " 0.043,\n",
       " 11.952,\n",
       " 24.544,\n",
       " 54.772,\n",
       " 4711.7390000000005,\n",
       " 5281364.0,\n",
       " 59.428770860520146,\n",
       " 159.30500717056506,\n",
       " 0.043,\n",
       " 11.682,\n",
       " 25.233,\n",
       " 56.066,\n",
       " 6508.428000000001,\n",
       " 5209722.0,\n",
       " 58.72666427805554,\n",
       " 152.00138858273868,\n",
       " 0.045,\n",
       " 10.899000000000001,\n",
       " 23.936,\n",
       " 54.901,\n",
       " 3352.489,\n",
       " 5206988.0,\n",
       " 59.28756027861021,\n",
       " 183.21224469591397,\n",
       " 0.043,\n",
       " 10.437000000000001,\n",
       " 22.898000000000003,\n",
       " 52.736999999999995,\n",
       " 4777.157999999999,\n",
       " 5597068.0,\n",
       " 59.85552677044483,\n",
       " 179.03974499356428,\n",
       " 0.043,\n",
       " 11.213,\n",
       " 23.54,\n",
       " 52.323,\n",
       " 4711.7390000000005,\n",
       " 0.068,\n",
       " 2521.541,\n",
       " 129.98697507818454,\n",
       " 52.553152133469034,\n",
       " 25.877,\n",
       " 6.901,\n",
       " 16.029,\n",
       " 41.25,\n",
       " 102.541,\n",
       " 157.30700000000002,\n",
       " 1.054,\n",
       " 1595.721,\n",
       " 93.23637022288784,\n",
       " 47.93558318730844,\n",
       " 24.445999999999998,\n",
       " 6.228,\n",
       " 14.103,\n",
       " 41.489,\n",
       " 97.26899999999999,\n",
       " 125.156,\n",
       " 0.043,\n",
       " 1144.882,\n",
       " 108.51034296569348,\n",
       " 55.67973469859166,\n",
       " 24.54,\n",
       " 6.468999999999999,\n",
       " 14.7,\n",
       " 42.681000000000004,\n",
       " 110.51,\n",
       " 190.829,\n",
       " 0.045,\n",
       " 1897.614,\n",
       " 125.19191497759346,\n",
       " 58.542947522768806,\n",
       " 25.531,\n",
       " 6.468999999999999,\n",
       " 14.232000000000001,\n",
       " 43.963,\n",
       " 123.189,\n",
       " 206.03799999999998,\n",
       " 0.048,\n",
       " 2005.1,\n",
       " 146.26625823166938,\n",
       " 61.275545695526816,\n",
       " 25.445,\n",
       " 6.684999999999999,\n",
       " 16.474,\n",
       " 45.198,\n",
       " 127.226,\n",
       " 190.743,\n",
       " 0.045,\n",
       " 3252.472,\n",
       " 168.08272452253593,\n",
       " 60.90236155126036,\n",
       " 24.065,\n",
       " 4.9910000000000005,\n",
       " 13.945,\n",
       " 40.254,\n",
       " 115.565,\n",
       " 215.489,\n",
       " 0.043,\n",
       " 3920.7290000000003,\n",
       " 204.96735590632778,\n",
       " 66.06971617935316,\n",
       " 26.79,\n",
       " 5.587000000000001,\n",
       " 15.224,\n",
       " 43.126999999999995,\n",
       " 125.932,\n",
       " 189.287,\n",
       " 0.086,\n",
       " 4502.317,\n",
       " 212.33828472180946,\n",
       " 61.84462925572665,\n",
       " 23.504,\n",
       " 5.822,\n",
       " 13.73,\n",
       " 41.144,\n",
       " 126.624,\n",
       " 191.076,\n",
       " 0.043,\n",
       " 1310.518,\n",
       " 104.30888006251068,\n",
       " 54.11212327779083,\n",
       " 23.401999999999997,\n",
       " 5.221,\n",
       " 13.369999999999997,\n",
       " 39.763000000000005,\n",
       " 110.03200000000001,\n",
       " 180.14,\n",
       " 0.43200000000000005,\n",
       " 1222.276,\n",
       " 75.1600645029,\n",
       " 46.29859383293346,\n",
       " 24.546,\n",
       " 5.083,\n",
       " 13.648,\n",
       " 41.17,\n",
       " 95.3,\n",
       " 161.642,\n",
       " 0.045,\n",
       " 3228.567,\n",
       " 233.32713965052068,\n",
       " 71.87401950411474,\n",
       " 23.127,\n",
       " 5.046000000000001,\n",
       " 13.953,\n",
       " 39.521,\n",
       " 114.48899999999999,\n",
       " 197.951,\n",
       " 0.43200000000000005,\n",
       " 2289.764,\n",
       " 141.52814903161635,\n",
       " 57.187257543673866,\n",
       " 25.891,\n",
       " 5.952999999999999,\n",
       " 15.18,\n",
       " 40.096,\n",
       " 107.478,\n",
       " 180.704,\n",
       " 0.043,\n",
       " 6508.428000000001,\n",
       " 249.09860765198044,\n",
       " 69.38467755057913,\n",
       " 26.515,\n",
       " 6.2010000000000005,\n",
       " 16.647000000000002,\n",
       " 43.042,\n",
       " 120.899,\n",
       " 222.062,\n",
       " 0.045,\n",
       " 3264.0690000000004,\n",
       " 164.72396262257678,\n",
       " 56.711831889755985,\n",
       " 23.135,\n",
       " 5.266,\n",
       " 13.921,\n",
       " 38.544000000000004,\n",
       " 105.49,\n",
       " 163.535,\n",
       " 0.043,\n",
       " 2173.2,\n",
       " 152.0252939803827,\n",
       " 65.37968116333637,\n",
       " 23.951,\n",
       " 5.31,\n",
       " 14.036,\n",
       " 41.445,\n",
       " 132.806,\n",
       " 273.312,\n",
       " 0.168,\n",
       " 1342.986,\n",
       " 102.89673402811869,\n",
       " 50.41495389027702,\n",
       " 22.13,\n",
       " 4.579,\n",
       " 13.001,\n",
       " 36.224000000000004,\n",
       " 105.96700000000001,\n",
       " 183.18099999999998,\n",
       " 0.045,\n",
       " 3068.283,\n",
       " 176.83097057538527,\n",
       " 61.92681625814539,\n",
       " 24.496,\n",
       " 4.744,\n",
       " 14.243,\n",
       " 43.79,\n",
       " 117.039,\n",
       " 189.521,\n",
       " 0.045,\n",
       " 3352.489,\n",
       " 174.15417903896696,\n",
       " 60.292105095572175,\n",
       " 22.939,\n",
       " 4.814,\n",
       " 13.738,\n",
       " 39.383,\n",
       " 114.671,\n",
       " 176.82299999999998,\n",
       " 0.043,\n",
       " 3904.048,\n",
       " 160.6211624404185,\n",
       " 55.692821299648244,\n",
       " 22.304000000000002,\n",
       " 4.763,\n",
       " 13.189,\n",
       " 37.848,\n",
       " 112.11200000000001,\n",
       " 183.09,\n",
       " 0.045,\n",
       " 4777.157999999999,\n",
       " 245.71891640392255,\n",
       " 62.30119909354631,\n",
       " 21.386,\n",
       " 4.7010000000000005,\n",
       " 12.464,\n",
       " 35.674,\n",
       " 105.663,\n",
       " 173.58700000000002,\n",
       " 0.043,\n",
       " 2954.3,\n",
       " 146.75060117894174,\n",
       " 57.631179166841854,\n",
       " 21.564,\n",
       " 4.5280000000000005,\n",
       " 12.765999999999998,\n",
       " 36.542,\n",
       " 117.845,\n",
       " 193.78799999999998,\n",
       " 0.043,\n",
       " 4547.105,\n",
       " 171.63697994548093,\n",
       " 47.90988017783516,\n",
       " 21.219,\n",
       " 5.038,\n",
       " 12.722999999999999,\n",
       " 32.357,\n",
       " 91.57400000000001,\n",
       " 140.47299999999998,\n",
       " 0.043,\n",
       " 2661.6220000000003,\n",
       " 159.95534537052035,\n",
       " 65.85758793826334,\n",
       " 24.712,\n",
       " 5.607,\n",
       " 13.738,\n",
       " 38.926,\n",
       " 133.196,\n",
       " 234.988,\n",
       " 0.043,\n",
       " 4711.7390000000005,\n",
       " 231.2194091235947,\n",
       " 67.94764258881372,\n",
       " 23.677,\n",
       " 6.167000000000001,\n",
       " 14.591999999999999,\n",
       " 39.16,\n",
       " 118.148,\n",
       " 198.74099999999999,\n",
       " 0.043,\n",
       " 1522.555,\n",
       " 118.51928133051858,\n",
       " 67.68683429417916,\n",
       " 31.224,\n",
       " 6.412000000000001,\n",
       " 18.248,\n",
       " 50.92100000000001,\n",
       " 165.85299999999998,\n",
       " 246.862,\n",
       " 0.043,\n",
       " 2521.541,\n",
       " 111.57901498677603,\n",
       " 52.118640067102035,\n",
       " 24.971,\n",
       " 6.599,\n",
       " 14.862000000000002,\n",
       " 41.703,\n",
       " 102.874,\n",
       " 157.588,\n",
       " 0.045,\n",
       " 3252.472,\n",
       " 148.077046901215,\n",
       " 60.27285751818345,\n",
       " 25.05,\n",
       " 6.182,\n",
       " 14.987,\n",
       " 42.8,\n",
       " 122.741,\n",
       " 207.09900000000002,\n",
       " 0.043,\n",
       " 4502.317,\n",
       " 177.64636148646994,\n",
       " 60.332642851561125,\n",
       " 24.409000000000002,\n",
       " 5.607,\n",
       " 13.93,\n",
       " 41.45,\n",
       " 120.62799999999999,\n",
       " 184.899,\n",
       " 0.045,\n",
       " 3228.567,\n",
       " 164.51319994990433,\n",
       " 58.712790776008625,\n",
       " 24.546,\n",
       " 5.391,\n",
       " 14.105,\n",
       " 40.219,\n",
       " 107.43,\n",
       " 178.007,\n",
       " 0.043,\n",
       " 6508.428000000001,\n",
       " 191.54877301747314,\n",
       " 63.66076384289226,\n",
       " 24.320999999999998,\n",
       " 5.564,\n",
       " 14.558,\n",
       " 40.854,\n",
       " 119.82,\n",
       " 220.985,\n",
       " 0.045,\n",
       " 3352.489,\n",
       " 154.97843262203375,\n",
       " 57.522371053441184,\n",
       " 22.898000000000003,\n",
       " 4.7010000000000005,\n",
       " 13.738,\n",
       " 39.635,\n",
       " 113.469,\n",
       " 184.53099999999998,\n",
       " 0.043,\n",
       " 4777.157999999999,\n",
       " 187.59135498750715,\n",
       " 58.44181440547169,\n",
       " 21.569000000000003,\n",
       " 4.579,\n",
       " 12.937999999999999,\n",
       " 36.645,\n",
       " 112.175,\n",
       " 182.72299999999998,\n",
       " 0.043,\n",
       " 4711.7390000000005,\n",
       " 191.21543811021056,\n",
       " 60.88829335880272,\n",
       " 22.898000000000003,\n",
       " 5.731,\n",
       " 13.738,\n",
       " 36.786,\n",
       " 111.69400000000002,\n",
       " 201.49900000000002,\n",
       " 0.043,\n",
       " 1522.555,\n",
       " 118.51928133051858,\n",
       " 67.68683429417916,\n",
       " 31.224,\n",
       " 6.412000000000001,\n",
       " 18.248,\n",
       " 50.92100000000001,\n",
       " 165.85299999999998,\n",
       " 246.862]"
      ]
     },
     "execution_count": 35,
     "metadata": {},
     "output_type": "execute_result"
    }
   ],
   "source": [
    "print(len(features))\n",
    "features"
   ]
  }
 ],
 "metadata": {
  "kernelspec": {
   "display_name": "Python 3",
   "language": "python",
   "name": "python3"
  }
 },
 "nbformat": 4,
 "nbformat_minor": 2
}
