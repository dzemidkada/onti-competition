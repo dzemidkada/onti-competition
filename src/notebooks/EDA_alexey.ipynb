{
 "cells": [
  {
   "cell_type": "code",
   "execution_count": 2,
   "metadata": {},
   "outputs": [],
   "source": [
    "import os\n",
    "import sys\n",
    "\n",
    "PROJECT_ROOT = '/'\n",
    "\n",
    "sys.path.append(PROJECT_ROOT)\n",
    "\n",
    "import warnings\n",
    "warnings.filterwarnings('ignore')\n",
    "\n",
    "%load_ext autoreload\n",
    "%autoreload 2"
   ]
  },
  {
   "cell_type": "code",
   "execution_count": 3,
   "metadata": {},
   "outputs": [],
   "source": [
    "conf = {'groups_desc': 'data/small_group_description.csv',\n",
    "    'train_x': 'data/transactions_train.csv',\n",
    "    'test_x': 'data/transactions_test.csv',\n",
    "    'train_target': 'data/train_target.csv',\n",
    "    'test_target': 'data/test.csv'}"
   ]
  },
  {
   "cell_type": "code",
   "execution_count": 4,
   "metadata": {},
   "outputs": [],
   "source": [
    "from data_utils import *"
   ]
  },
  {
   "cell_type": "code",
   "execution_count": 5,
   "metadata": {},
   "outputs": [
    {
     "name": "stdout",
     "output_type": "stream",
     "text": [
      "Reading groups_desc...\n",
      "Reading train_x...\n",
      "Reading test_x...\n",
      "Reading train_target...\n",
      "Reading test_target...\n",
      "Validation split: by clientID\n",
      "CPU times: user 12.8 s, sys: 6.13 s, total: 18.9 s\n",
      "Wall time: 22.5 s\n"
     ]
    }
   ],
   "source": [
    "%%time\n",
    "\n",
    "ds = DataSource(conf)\n",
    "ds.read_data()\n",
    "ds.validation_split()"
   ]
  },
  {
   "cell_type": "code",
   "execution_count": 83,
   "metadata": {},
   "outputs": [
    {
     "name": "stdout",
     "output_type": "stream",
     "text": [
      "Dataset: groups_desc, shape: (204, 2)\n",
      "Dataset: train_x, shape: (21295142, 4)\n",
      "Dataset: test_x, shape: (17667328, 4)\n",
      "Dataset: train_target, shape: (24145, 1)\n",
      "Dataset: test_target, shape: (20000, 1)\n",
      "Dataset: valid_x, shape: (5155435, 4)\n",
      "Dataset: valid_target, shape: (5855, 2)\n"
     ]
    }
   ],
   "source": [
    "print(ds)"
   ]
  },
  {
   "cell_type": "code",
   "execution_count": 6,
   "metadata": {},
   "outputs": [],
   "source": [
    "train_target = ds.get_data('train_target')\n",
    "train_target.set_index('client_id', inplace=True)"
   ]
  },
  {
   "cell_type": "code",
   "execution_count": 7,
   "metadata": {},
   "outputs": [
    {
     "name": "stdout",
     "output_type": "stream",
     "text": [
      "   client_id  trans_date  small_group  amount_rur\n",
      "0       3694          26            1      10.006\n",
      "1       3694          29            3      54.955\n",
      "2       3694          31            1      10.945\n",
      "3       3694          34           36      61.721\n",
      "4       3694          36           25       4.579\n"
     ]
    }
   ],
   "source": [
    "train_x = ds.get_data('train_x')\n",
    "print(train_x.head())\n"
   ]
  },
  {
   "cell_type": "code",
   "execution_count": 203,
   "metadata": {},
   "outputs": [
    {
     "name": "stdout",
     "output_type": "stream",
     "text": [
      "            s6\n",
      "bins          \n",
      "0     0.015202\n",
      "1     0.007810\n",
      "2     0.000329\n",
      "3     0.017969\n"
     ]
    }
   ],
   "source": [
    "gr6 = train_x.groupby(['client_id']).apply(lambda x: pd.Series({'s6':\n",
    "                    (x['small_group']==169).sum()}))\n",
    "\n",
    "#gr.set_index('client_id', inplace=True)\n",
    "joined = train_target.join(gr6)\n",
    "zero =  joined.groupby('bins').agg({'s6':'mean'})\n",
    "print(zero.head())"
   ]
  },
  {
   "cell_type": "code",
   "execution_count": 8,
   "metadata": {},
   "outputs": [],
   "source": [
    "train_x['month_number'] = train_x['trans_date']//30"
   ]
  },
  {
   "cell_type": "code",
   "execution_count": 10,
   "metadata": {},
   "outputs": [
    {
     "name": "stdout",
     "output_type": "stream",
     "text": [
      "           bins  client_id  trans_date  small_group  amount_rur  month_number\n",
      "client_id                                                                    \n",
      "1046          0       3694         710           80      30.362            23\n",
      "34089         2      34445         669            9     101.208            22\n",
      "34848         1      32728         502           24     665.480            16\n",
      "47076         3      19350          48           11      22.486             1\n",
      "10938         2       6767         593            1      82.963            19\n",
      "...         ...        ...         ...          ...         ...           ...\n",
      "36716         2      13026         709           24     107.086            23\n",
      "14303         1      38817         535            3      21.564            17\n",
      "22301         2      31317         165            1      16.211             5\n",
      "25731         0      46358         561            1      10.199            18\n",
      "16820         3       4323         506            1      60.258            16\n",
      "\n",
      "[24145 rows x 6 columns]\n"
     ]
    }
   ],
   "source": [
    "#print(train_target.head())\n",
    "print(train_target.join(train_x))\n",
    "#train_x.groupby(['client_id'])[\"trans_date\"].agg({\"tr_c\": \"count\"}).tr_c.max()\n"
   ]
  },
  {
   "cell_type": "code",
   "execution_count": 135,
   "metadata": {},
   "outputs": [
    {
     "name": "stderr",
     "output_type": "stream",
     "text": [
      "/opt/anaconda3/lib/python3.7/site-packages/ipykernel_launcher.py:1: FutureWarning: using a dict on a Series for aggregation\n",
      "is deprecated and will be removed in a future version. Use                 named aggregation instead.\n",
      "\n",
      "    >>> grouper.agg(name_1=func_1, name_2=func_2)\n",
      "\n",
      "  \"\"\"Entry point for launching an IPython kernel.\n"
     ]
    },
    {
     "name": "stdout",
     "output_type": "stream",
     "text": [
      "                  s1\n",
      "client_id           \n",
      "4          28404.121\n",
      "6          15720.739\n",
      "10         34419.365\n",
      "11         26789.404\n",
      "13         17337.467\n",
      "                s1\n",
      "bins              \n",
      "0     46951.066337\n",
      "1     62098.233179\n",
      "2     28172.588712\n",
      "3     60398.480530\n"
     ]
    }
   ],
   "source": [
    "gr1 = train_x.groupby(['client_id'])[\"amount_rur\"].agg({\"s1\": \"sum\"})\n",
    "print(gr1.head())\n",
    "#gr.set_index('client_id')\n",
    "joined = train_target.join(gr1)\n",
    "zero =  joined.groupby('bins').agg({'s1':'mean'})\n",
    "print(zero.head())\n",
    "#print(joined[joined[\"client_id\"]==3694].head(20))"
   ]
  },
  {
   "cell_type": "code",
   "execution_count": 136,
   "metadata": {},
   "outputs": [
    {
     "name": "stderr",
     "output_type": "stream",
     "text": [
      "/opt/anaconda3/lib/python3.7/site-packages/ipykernel_launcher.py:1: FutureWarning: using a dict on a Series for aggregation\n",
      "is deprecated and will be removed in a future version. Use                 named aggregation instead.\n",
      "\n",
      "    >>> grouper.agg(name_1=func_1, name_2=func_2)\n",
      "\n",
      "  \"\"\"Entry point for launching an IPython kernel.\n"
     ]
    },
    {
     "name": "stdout",
     "output_type": "stream",
     "text": [
      "               s2\n",
      "bins             \n",
      "0     2589.771139\n",
      "1     3578.836228\n",
      "2     1581.059080\n",
      "3     3319.801815\n"
     ]
    }
   ],
   "source": [
    "gr2 = train_x.groupby(['client_id'])[\"amount_rur\"].agg({\"s2\": \"max\"})\n",
    "joined = train_target.join(gr2)\n",
    "zero =  joined.groupby('bins').agg({'s2':'mean'})\n",
    "print(zero.head())"
   ]
  },
  {
   "cell_type": "code",
   "execution_count": 13,
   "metadata": {},
   "outputs": [
    {
     "name": "stderr",
     "output_type": "stream",
     "text": [
      "/opt/anaconda3/lib/python3.7/site-packages/ipykernel_launcher.py:1: FutureWarning: using a dict on a Series for aggregation\n",
      "is deprecated and will be removed in a future version. Use                 named aggregation instead.\n",
      "\n",
      "    >>> grouper.agg(name_1=func_1, name_2=func_2)\n",
      "\n",
      "  \"\"\"Entry point for launching an IPython kernel.\n"
     ]
    },
    {
     "name": "stdout",
     "output_type": "stream",
     "text": [
      "            s3\n",
      "bins          \n",
      "0     0.294786\n",
      "1     0.557962\n",
      "2     0.196993\n",
      "3     0.396317\n"
     ]
    }
   ],
   "source": [
    "gr3 = train_x.groupby(['client_id'])[\"amount_rur\"].agg({\"s3\": \"min\"})\n",
    "joined = train_target.join(gr3)\n",
    "zero =  joined.groupby('bins').agg({'s3':'mean'})\n",
    "print(zero.head())"
   ]
  },
  {
   "cell_type": "code",
   "execution_count": 17,
   "metadata": {},
   "outputs": [
    {
     "name": "stdout",
     "output_type": "stream",
     "text": [
      "             c4\n",
      "bins           \n",
      "0     47.302038\n",
      "1     47.874875\n",
      "2     44.124609\n",
      "3     48.889878\n"
     ]
    }
   ],
   "source": [
    "grouped_by_group = train_x.groupby(['client_id', 'small_group'], as_index = False)['amount_rur'].agg({'c4':'min'})\n",
    "gr4  = grouped_by_group.loc[grouped_by_group.groupby('client_id')['c4'].idxmax()][['client_id','small_group']]\n",
    "gr4.columns = ['client_id', 'c4']\n",
    "gr4.set_index('client_id', inplace=True)\n",
    "\n",
    "joined = train_target.join(gr4)\n",
    "zero =  joined.groupby('bins').agg({'c4':'mean'})\n",
    "print(zero.head())"
   ]
  },
  {
   "cell_type": "code",
   "execution_count": 18,
   "metadata": {},
   "outputs": [
    {
     "name": "stdout",
     "output_type": "stream",
     "text": [
      "            c5\n",
      "bins          \n",
      "0     7.071834\n",
      "1     5.203390\n",
      "2     7.260412\n",
      "3     6.230630\n"
     ]
    }
   ],
   "source": [
    "grouped_by_group = train_x.groupby(['client_id', 'small_group'], as_index = False)['amount_rur'].agg({'c5':'sum'})\n",
    "gr5  = grouped_by_group.loc[grouped_by_group.groupby('client_id')['c5'].idxmax()][['client_id','small_group']]\n",
    "gr5.columns = ['client_id', 'c5']\n",
    "gr5.set_index('client_id', inplace=True)\n",
    "\n",
    "joined = train_target.join(gr5)\n",
    "zero =  joined.groupby('bins').agg({'c5':'mean'})\n",
    "print(zero.head())"
   ]
  },
  {
   "cell_type": "code",
   "execution_count": 137,
   "metadata": {},
   "outputs": [
    {
     "name": "stdout",
     "output_type": "stream",
     "text": [
      "             s6\n",
      "bins           \n",
      "0     36.456231\n",
      "1     53.253074\n",
      "2     29.438519\n",
      "3     41.931091\n"
     ]
    }
   ],
   "source": [
    "gr6 = train_x.groupby(['client_id']).apply(lambda x: pd.Series({'s6':\n",
    "                    (x['small_group']==4).sum()}))\n",
    "\n",
    "#gr.set_index('client_id', inplace=True)\n",
    "joined = train_target.join(gr6)\n",
    "zero =  joined.groupby('bins').agg({'s6':'mean'})\n",
    "print(zero.head())"
   ]
  },
  {
   "cell_type": "code",
   "execution_count": 9,
   "metadata": {},
   "outputs": [
    {
     "name": "stdout",
     "output_type": "stream",
     "text": [
      "             s11\n",
      "bins            \n",
      "0     892.768460\n",
      "1     859.832669\n",
      "2     889.435226\n",
      "3     885.795912\n"
     ]
    }
   ],
   "source": [
    "gr11 = train_x.groupby(['client_id'])[\"trans_date\"].agg({\"s11\": \"count\"})\n",
    "joined = train_target.join(gr11)\n",
    "zero =  joined.groupby('bins').agg({'s11':'mean'})\n",
    "print(zero.head())"
   ]
  },
  {
   "cell_type": "code",
   "execution_count": 16,
   "metadata": {},
   "outputs": [],
   "source": [
    "grouped = train_x.groupby(['client_id', 'month_number'], as_index=False)"
   ]
  },
  {
   "cell_type": "code",
   "execution_count": 100,
   "metadata": {},
   "outputs": [],
   "source": [
    "\n",
    "client_per_month_spendings = train_x.groupby(['client_id', 'month_number']).agg({\"amount_rur\": \"sum\"}).groupby('client_id').agg({'amount_rur':'mean'})"
   ]
  },
  {
   "cell_type": "code",
   "execution_count": 181,
   "metadata": {},
   "outputs": [
    {
     "name": "stdout",
     "output_type": "stream",
     "text": [
      "2765.900111078898\n",
      "553.1800222157797\n"
     ]
    }
   ],
   "source": [
    "# Вычислием среднюю максимальную транзакцию по клиентам. Далее найдем среднее отклонение максим транзакций по клиентам. \n",
    "# Это позволит найти \"большие\" транзакции , как mean + std. у нас не гаусово распределение, но все же оперделим значение \"большой\" транзакции \n",
    "# именно так.\n",
    "grouped_by_max = train_x.groupby(['client_id'], as_index = False).agg({'amount_rur':'max'})\n",
    "print(grouped_by_max.agg({'amount_rur':'mean'})['amount_rur'] )\n",
    "large_transactions = grouped_by_max.agg({'amount_rur':'mean'})['amount_rur'] /5\n",
    "print(large_transactions)"
   ]
  },
  {
   "cell_type": "code",
   "execution_count": 52,
   "metadata": {},
   "outputs": [],
   "source": [
    "def prepare_featured_data_v2(df):\n",
    "    gr_by_client = df.groupby(['client_id'])\n",
    "    gr1 = gr_by_client[\"amount_rur\"].agg({\"s1\": \"sum\"})\n",
    "    \n",
    "    gr2 = gr_by_client[\"amount_rur\"].agg({\"s2\": \"max\"}) \n",
    "    gr3 = gr_by_client[\"amount_rur\"].agg({\"s3\": \"min\"})\n",
    "\n",
    "    gr4_by_group = df.groupby(['client_id', 'small_group'], as_index = False)['amount_rur'].agg({'s4':'min'})\n",
    "    gr4  = gr4_by_group.loc[gr4_by_group.groupby('client_id')['s4'].idxmax()][['client_id','small_group']]\n",
    "    gr4.columns = ['client_id', 's4']\n",
    "    gr4.set_index('client_id', inplace=True)\n",
    "\n",
    "    \n",
    "    gr5_by_group = df.groupby(['client_id', 'small_group'], as_index = False)['amount_rur'].agg({'s5':'sum'})\n",
    "    gr5  = gr5_by_group.loc[gr5_by_group.groupby('client_id')['s5'].idxmax()][['client_id','small_group']]\n",
    "    gr5.columns = ['client_id', 's5']\n",
    "    gr5.set_index('client_id', inplace=True)\n",
    "    \n",
    "    gr6 = df.groupby(['client_id']).apply(lambda x: pd.Series({'s6':\n",
    "                    (x['small_group']==4).sum() + 0.000001}))\n",
    "\n",
    "    gr7 = df.groupby(['client_id']).apply(lambda x: pd.Series({'s7':\n",
    "                    (x['small_group']==27).sum() + 0.000001}))\n",
    "    \n",
    "    gr8 = df.groupby(['client_id']).apply(lambda x: pd.Series({'s8':\n",
    "                    (x['small_group']==61).sum() + 0.000001}))\n",
    "    \n",
    "    gr9 = df.groupby(['client_id']).apply(lambda x: pd.Series({'s9':\n",
    "                    (x['small_group']==77).sum() + 0.000001}))\n",
    "    \n",
    "    gr10 = df.groupby(['client_id']).apply(lambda x: pd.Series({'s10':\n",
    "                    (x['small_group']==86).sum() + 0.000001}))\n",
    "    \n",
    "    gr11 = df.groupby(['client_id'])[\"trans_date\"].agg({\"s11\": \"count\"})\n",
    "    \n",
    "    res = gr1.join(gr2).join(gr3).join(gr4).join(gr5).join(gr6).join(gr7).join(gr8).join(gr9).join(gr10).join(gr11)\n",
    "    res.fillna(0, inplace=True)\n",
    "    return res\n",
    "    "
   ]
  },
  {
   "cell_type": "code",
   "execution_count": 26,
   "metadata": {},
   "outputs": [],
   "source": [
    "from sklearn import preprocessing\n"
   ]
  },
  {
   "cell_type": "code",
   "execution_count": 27,
   "metadata": {},
   "outputs": [],
   "source": [
    "def normalize(column_names_to_normalize, df):\n",
    "    x = df[column_names_to_normalize].values\n",
    "    min_max_scaler = preprocessing.MinMaxScaler()\n",
    "    x_scaled = min_max_scaler.fit_transform(x)\n",
    "    \n",
    "    df_temp = pd.DataFrame(x_scaled, columns=column_names_to_normalize, index = df.index)\n",
    "    df[column_names_to_normalize] = df_temp\n",
    "    return df"
   ]
  },
  {
   "cell_type": "code",
   "execution_count": 53,
   "metadata": {},
   "outputs": [],
   "source": [
    "from torch import nn\n",
    "import torch.nn.functional as F\n",
    "\n",
    "class Net(nn.Module):\n",
    "    def __init__(self):\n",
    "        super().__init__()\n",
    "        \n",
    "        self.hidden0 = nn.Linear(11, 8)\n",
    "        self.hidden1 = nn.Linear(8, 16)\n",
    "        self.hidden2 = nn.Linear(16, 32)\n",
    "        \n",
    "        self.bn1 = nn.BatchNorm1d(16)\n",
    "        self.output = nn.Linear(32, 4)\n",
    "\n",
    "        \n",
    "    def forward(self, x):\n",
    "        x = F.relu(self.hidden0(x)) \n",
    "        x = F.relu(self.bn1(self.hidden1(x))) \n",
    "        x = F.relu(self.hidden2(x))\n",
    "        return F.log_softmax(self.output(x))\n",
    "        "
   ]
  },
  {
   "cell_type": "code",
   "execution_count": 14,
   "metadata": {},
   "outputs": [],
   "source": [
    "from torch.utils.data import DataLoader, Dataset\n",
    "import pandas as pd\n",
    "import torchvision\n",
    "\n",
    "class Ds(Dataset):\n",
    "    \n",
    "    def __init__(self, data, labels):\n",
    "        self.data = labels.join(data)\n",
    "        print(self.data.head(30))\n",
    "        \n",
    "    def __len__(self):\n",
    "        return len(self.data)\n",
    "    \n",
    "    def __getitem__(self, index):\n",
    "        x = self.data.iloc[index, 1:]\n",
    "        y = self.data.iloc[index, 0]\n",
    "\n",
    "        return torch.tensor(x), torch.tensor(y)"
   ]
  },
  {
   "cell_type": "code",
   "execution_count": 54,
   "metadata": {},
   "outputs": [
    {
     "name": "stdout",
     "output_type": "stream",
     "text": [
      "           bins\n",
      "client_id      \n",
      "1046          0\n",
      "34089         2\n",
      "34848         1\n",
      "47076         3\n",
      "10938         2\n",
      "                  s1        s2     s3  s4  s5         s6        s7         s8  \\\n",
      "client_id                                                                       \n",
      "4          28404.121  1341.802  0.043   2   1  93.000001  0.000001   0.000001   \n",
      "6          15720.739   315.781  0.045  80   1  10.000001  0.000001   0.000001   \n",
      "10         34419.365   654.893  0.045  23   1  65.000001  0.000001   0.000001   \n",
      "11         26789.404  2105.058  0.388  66  88  23.000001  0.000001   2.000001   \n",
      "13         17337.467  1190.322  0.043  83  11  45.000001  0.000001   0.000001   \n",
      "14         26622.629  1167.291  0.043   5   1  39.000001  0.000001   1.000001   \n",
      "17         58337.998  5692.843  0.028  54   1  34.000001  2.000001   9.000001   \n",
      "19         46941.495  2049.338  0.259  26   1  98.000001  0.000001  21.000001   \n",
      "20         79997.006  3213.706  0.043  73  13  10.000001  0.000001   0.000001   \n",
      "25         77245.103  2564.078  0.647  65   1  22.000001  0.000001   4.000001   \n",
      "\n",
      "                 s9       s10   s11  \n",
      "client_id                            \n",
      "4          0.000001  0.000001   720  \n",
      "6          0.000001  0.000001   730  \n",
      "10         0.000001  0.000001   706  \n",
      "11         0.000001  0.000001   812  \n",
      "13         0.000001  0.000001   754  \n",
      "14         0.000001  0.000001  1097  \n",
      "17         9.000001  1.000001  1053  \n",
      "19         0.000001  0.000001   721  \n",
      "20         0.000001  1.000001   821  \n",
      "25         0.000001  1.000001   996  \n",
      "           bins        s1        s2        s3        s4        s5        s6  \\\n",
      "client_id                                                                     \n",
      "1046          0  0.007128  0.002887  0.085447  0.026178  0.006024  0.047619   \n",
      "34089         2  0.004184  0.001817  0.006537  0.240838  0.006024  0.135531   \n",
      "34848         1  0.002109  0.000135  0.006537  0.104712  0.006024  0.150183   \n",
      "47076         3  0.001494  0.001214  0.067082  0.115183  0.006024  0.161172   \n",
      "10938         2  0.002494  0.001216  0.011829  0.240838  0.006024  0.003663   \n",
      "42965         1  0.006834  0.000979  0.149572  0.392670  0.006024  0.150183   \n",
      "21594         0  0.004901  0.001277  0.013385  0.167539  0.006024  0.227106   \n",
      "7952          1  0.006509  0.002905  0.006537  0.392670  0.006024  0.172161   \n",
      "33810         0  0.004043  0.002122  0.006537  0.277487  0.006024  0.150183   \n",
      "11061         2  0.002860  0.005940  0.006537  0.026178  0.006024  0.095238   \n",
      "30905         0  0.002225  0.001221  0.014163  0.073298  0.006024  0.073260   \n",
      "29440         3  0.004614  0.001349  0.028327  0.109948  0.006024  0.300366   \n",
      "48434         0  0.008458  0.002940  0.006693  0.471204  0.885542  0.018315   \n",
      "17276         3  0.010568  0.006157  0.092451  0.439791  0.006024  0.172161   \n",
      "34732         3  0.006240  0.003283  0.209961  0.335079  0.006024  0.161172   \n",
      "34843         2  0.005674  0.002772  0.006537  0.109948  0.006024  0.205128   \n",
      "24284         1  0.014540  0.014753  0.067082  0.282723  0.006024  0.223443   \n",
      "2409          2  0.004566  0.001885  0.000000  0.104712  0.006024  0.051282   \n",
      "30746         1  0.038857  0.012774  0.006537  0.115183  0.144578  0.157509   \n",
      "21766         1  0.012833  0.014517  0.216031  0.507853  0.006024  0.128205   \n",
      "8809          1  0.012509  0.007092  0.283424  0.026178  0.006024  0.223443   \n",
      "14896         2  0.003312  0.002275  0.006537  0.335079  0.006024  0.183150   \n",
      "20246         1  0.007039  0.009564  0.228016  0.319372  0.126506  0.699634   \n",
      "33557         1  0.005412  0.001726  0.142412  0.240838  0.006024  0.377289   \n",
      "35077         1  0.009170  0.003493  0.049650  0.282723  0.006024  0.600733   \n",
      "32680         1  0.009478  0.007413  0.006537  0.240838  0.144578  0.293040   \n",
      "39162         1  0.003173  0.001229  0.006537  0.225131  0.006024  0.098901   \n",
      "29018         0  0.022295  0.012403  0.046848  0.115183  0.265060  0.150183   \n",
      "38659         3  0.006175  0.006276  0.108171  0.282723  0.006024  0.168498   \n",
      "14414         3  0.030283  0.023500  0.228016  0.172775  0.481928  0.201465   \n",
      "\n",
      "                 s7        s8        s9  s10       s11  \n",
      "client_id                                               \n",
      "1046       0.000000  0.004950  0.000000  0.0  0.262222  \n",
      "34089      0.000000  0.000000  0.000000  0.0  0.182222  \n",
      "34848      0.000000  0.000000  0.000000  0.0  0.613333  \n",
      "47076      0.000000  0.000000  0.000000  0.0  0.186667  \n",
      "10938      0.000000  0.000000  0.000000  0.0  0.975556  \n",
      "42965      0.000000  0.009901  0.000000  0.0  0.944444  \n",
      "21594      0.000000  0.014851  0.000000  0.0  0.382222  \n",
      "7952       0.000000  0.004950  0.000000  0.0  0.148889  \n",
      "33810      0.000000  0.000000  0.017241  0.0  0.117778  \n",
      "11061      0.000000  0.000000  0.000000  0.0  0.560000  \n",
      "30905      0.000000  0.019802  0.000000  0.0  0.233333  \n",
      "29440      0.000000  0.079208  0.000000  0.0  0.717778  \n",
      "48434      0.000000  0.000000  0.000000  0.0  0.086667  \n",
      "17276      0.000000  0.000000  0.000000  0.0  0.642222  \n",
      "34732      0.012658  0.049505  0.000000  0.0  0.217778  \n",
      "34843      0.000000  0.000000  0.000000  0.0  0.731111  \n",
      "24284      0.000000  0.000000  0.000000  0.0  0.791111  \n",
      "2409       0.025316  0.000000  0.000000  0.0  0.362222  \n",
      "30746      0.000000  0.009901  0.000000  0.0  0.482222  \n",
      "21766      0.000000  0.103960  0.000000  0.0  0.237778  \n",
      "8809       0.000000  0.000000  0.000000  0.0  0.462222  \n",
      "14896      0.012658  0.049505  0.000000  0.0  0.153333  \n",
      "20246      0.000000  0.004950  0.000000  0.0  0.026667  \n",
      "33557      0.000000  0.000000  0.060345  0.0  0.173333  \n",
      "35077      0.012658  0.029703  0.008621  0.0  0.182222  \n",
      "32680      0.025316  0.000000  0.025862  0.0  0.195556  \n",
      "39162      0.000000  0.004950  0.000000  0.0  0.386667  \n",
      "29018      0.012658  0.158416  0.025862  0.0  0.337778  \n",
      "38659      0.000000  0.004950  0.000000  0.0  0.191111  \n",
      "14414      0.000000  0.009901  0.000000  0.0  0.862222  \n"
     ]
    }
   ],
   "source": [
    "train_y = ds.get_data('train_target')\n",
    "print(train_y.head())\n",
    "\n",
    "train_x = ds.get_data('train_x')\n",
    "\n",
    "#train_y.set_index('client_id', inplace=True)\n",
    "data = prepare_featured_data_v2(train_x)\n",
    "print(data.head(10))\n",
    "\n",
    "processed = normalize([\"s1\", \"s2\", \"s3\", \"s4\", \"s5\", \"s6\", \"s7\", \"s8\", \"s9\", \"s10\", \"s11\"], data)\n",
    "\n",
    "train_dataset = Ds(data = processed, labels = train_y)\n",
    "train_loader = DataLoader(train_dataset, batch_size=32, shuffle=True)  "
   ]
  },
  {
   "cell_type": "code",
   "execution_count": 29,
   "metadata": {},
   "outputs": [],
   "source": [
    "import torch \n",
    "is_cuda = torch.cuda.is_available()\n",
    "if is_cuda:\n",
    "    device = torch.device(\"cuda\"),\n",
    "else:\n",
    "    device = torch.device(\"cpu\")"
   ]
  },
  {
   "cell_type": "code",
   "execution_count": 55,
   "metadata": {},
   "outputs": [
    {
     "name": "stdout",
     "output_type": "stream",
     "text": [
      "(device(type='cuda'),)\n",
      "Train Epoch: 1 \tLoss: 1.259120\n",
      "Train Epoch: 2 \tLoss: 1.248440\n",
      "Train Epoch: 3 \tLoss: 1.240419\n",
      "Train Epoch: 4 \tLoss: 1.449114\n",
      "Train Epoch: 5 \tLoss: 1.512479\n",
      "Train Epoch: 6 \tLoss: 0.998040\n",
      "Train Epoch: 7 \tLoss: 1.167227\n",
      "Train Epoch: 8 \tLoss: 1.115762\n",
      "Train Epoch: 9 \tLoss: 1.161456\n"
     ]
    }
   ],
   "source": [
    "import numpy as np\n",
    "import torch.optim as optim\n",
    "\n",
    "learning_rate = 0.001\n",
    "\n",
    "\n",
    "print(device)\n",
    "network = Net().cuda()\n",
    "optimizer = optim.Adam(network.parameters(), lr=learning_rate)\n",
    "\n",
    "for epoch in range(1, 10):\n",
    "    network.train()\n",
    "    for batch_idx, (data, target) in enumerate(train_loader):\n",
    "        #if batch_idx > 2460:\n",
    "            #output = network(data.cuda())\n",
    "            #pred = output.data.max(1, keepdim=True)[1]\n",
    "            #print('ACURACY: {}'.format((pred.flatten() == target).sum()))\n",
    "       # else:\n",
    "            optimizer.zero_grad()\n",
    "            output = network(data.cuda())\n",
    "            loss = F.cross_entropy(output, target.cuda()).cuda()\n",
    "            loss.backward()\n",
    "            optimizer.step()\n",
    "    print('Train Epoch: {} \\tLoss: {:.6f}'.format(\n",
    "            epoch, loss.item()))"
   ]
  },
  {
   "cell_type": "code",
   "execution_count": 1,
   "metadata": {},
   "outputs": [
    {
     "ename": "NameError",
     "evalue": "name 'res_df' is not defined",
     "output_type": "error",
     "traceback": [
      "\u001b[0;31m---------------------------------------------------------------------------\u001b[0m",
      "\u001b[0;31mNameError\u001b[0m                                 Traceback (most recent call last)",
      "\u001b[0;32m<ipython-input-1-a6d0dc4cfdfb>\u001b[0m in \u001b[0;36m<module>\u001b[0;34m\u001b[0m\n\u001b[0;32m----> 1\u001b[0;31m \u001b[0mprint\u001b[0m\u001b[0;34m(\u001b[0m\u001b[0mlen\u001b[0m\u001b[0;34m(\u001b[0m\u001b[0mres_df\u001b[0m\u001b[0;34m[\u001b[0m\u001b[0mres_df\u001b[0m\u001b[0;34m[\u001b[0m\u001b[0;34m'large_num'\u001b[0m\u001b[0;34m]\u001b[0m\u001b[0;34m>\u001b[0m\u001b[0;36m0\u001b[0m\u001b[0;34m]\u001b[0m\u001b[0;34m)\u001b[0m\u001b[0;34m)\u001b[0m\u001b[0;34m\u001b[0m\u001b[0;34m\u001b[0m\u001b[0m\n\u001b[0m",
      "\u001b[0;31mNameError\u001b[0m: name 'res_df' is not defined"
     ]
    }
   ],
   "source": [
    "print(len(res_df[res_df['large_num']>0]))"
   ]
  },
  {
   "cell_type": "code",
   "execution_count": 57,
   "metadata": {},
   "outputs": [
    {
     "name": "stdout",
     "output_type": "stream",
     "text": [
      "           bins        s1        s2        s3        s4        s5        s6  \\\n",
      "client_id                                                                     \n",
      "24662         2  0.014923  0.004839  0.015675  0.284211  0.066298  0.087302   \n",
      "47651         3  0.020765  0.003163  0.088254  0.147368  0.005525  0.219577   \n",
      "36224         2  0.004771  0.002299  0.092549  0.378947  0.005525  0.126984   \n",
      "21691         1  0.018916  0.017944  0.184883  0.173684  0.071823  0.100529   \n",
      "29957         3  0.025960  0.015075  0.009019  0.089474  0.011050  0.100529   \n",
      "30401         2  0.011060  0.002129  0.092549  0.284211  0.005525  0.029101   \n",
      "15639         0  0.018530  0.002320  0.068499  0.242105  0.005525  0.111111   \n",
      "28539         1  0.016628  0.002953  0.008804  0.378947  0.005525  0.211640   \n",
      "39868         3  0.038876  0.010590  0.009019  0.531579  0.132597  0.079365   \n",
      "48975         0  0.038527  0.008853  0.323599  0.068421  0.005525  0.087302   \n",
      "26720         0  0.022271  0.006457  0.006657  0.236842  0.011050  0.060847   \n",
      "35206         0  0.030000  0.009648  0.009019  0.242105  0.005525  0.179894   \n",
      "11869         0  0.019555  0.004590  0.092549  0.589474  0.027624  0.195767   \n",
      "24916         0  0.027182  0.009351  0.009448  0.426316  0.005525  0.195767   \n",
      "39277         2  0.011517  0.009650  0.005154  0.121053  0.005525  0.156085   \n",
      "12125         3  0.032492  0.015992  0.009019  0.242105  0.005525  0.066138   \n",
      "48704         2  0.007849  0.004080  0.009019  0.394737  0.005525  0.010582   \n",
      "7536          3  0.016417  0.002400  0.009448  0.147368  0.005525  0.084656   \n",
      "8535          3  0.140312  0.022291  0.018252  0.331579  0.132597  0.023810   \n",
      "24212         2  0.014773  0.001404  0.009663  0.036842  0.005525  0.087302   \n",
      "2795          3  0.050127  0.025956  0.323814  0.026316  0.005525  0.058201   \n",
      "7286          1  0.046357  0.069066  0.147949  0.068421  0.027624  0.037037   \n",
      "49487         3  0.022103  0.011983  0.211510  0.421053  0.005525  0.097884   \n",
      "30850         0  0.023650  0.009871  0.009019  0.289474  0.005525  0.068783   \n",
      "23559         3  0.012779  0.016035  0.009019  0.105263  0.005525  0.103175   \n",
      "36187         1  0.021808  0.004322  0.046597  0.026316  0.005525  0.076720   \n",
      "15108         2  0.015531  0.005124  0.009019  0.026316  0.005525  0.026455   \n",
      "13861         3  0.036511  0.006326  0.009448  0.263158  0.005525  0.129630   \n",
      "45062         3  0.013420  0.007223  0.147305  0.510526  0.005525  0.103175   \n",
      "13648         2  0.019687  0.008563  0.000215  0.426316  0.005525  0.190476   \n",
      "\n",
      "                s7        s8        s9       s10       s11  \n",
      "client_id                                                   \n",
      "24662      0.00000  0.012270  0.000000  0.000000  0.377778  \n",
      "47651      0.00000  0.110429  0.000000  0.000000  0.615556  \n",
      "36224      0.00000  0.000000  0.000000  0.000000  0.235556  \n",
      "21691      0.00000  0.000000  0.000000  0.000000  0.324444  \n",
      "29957      0.00000  0.018405  0.000000  0.000000  0.560000  \n",
      "30401      0.02439  0.000000  0.000000  0.000000  0.413333  \n",
      "15639      0.02439  0.000000  0.000000  0.000000  0.853333  \n",
      "28539      0.00000  0.000000  0.000000  0.000000  0.326667  \n",
      "39868      0.00000  0.006135  0.000000  0.000000  0.780000  \n",
      "48975      0.04878  0.000000  0.000000  0.208791  0.900000  \n",
      "26720      0.02439  0.000000  0.000000  0.000000  0.648889  \n",
      "35206      0.00000  0.000000  0.000000  0.000000  0.406667  \n",
      "11869      0.02439  0.006135  0.000000  0.021978  0.706667  \n",
      "24916      0.00000  0.092025  0.035398  0.000000  0.435556  \n",
      "39277      0.04878  0.012270  0.000000  0.000000  0.377778  \n",
      "12125      0.00000  0.049080  0.000000  0.000000  0.011111  \n",
      "48704      0.00000  0.000000  0.000000  0.000000  0.813333  \n",
      "7536       0.00000  0.000000  0.000000  0.000000  0.546667  \n",
      "8535       0.02439  0.024540  0.000000  0.000000  0.206667  \n",
      "24212      0.04878  0.085890  0.000000  0.000000  0.415556  \n",
      "2795       0.00000  0.055215  0.000000  0.000000  0.135556  \n",
      "7286       0.00000  0.000000  0.000000  0.000000  0.857778  \n",
      "49487      0.00000  0.000000  0.000000  0.000000  0.322222  \n",
      "30850      0.02439  0.000000  0.000000  0.010989  0.768889  \n",
      "23559      0.00000  0.012270  0.000000  0.000000  0.593333  \n",
      "36187      0.00000  0.000000  0.053097  0.000000  0.880000  \n",
      "15108      0.00000  0.000000  0.000000  0.000000  0.153333  \n",
      "13861      0.00000  0.110429  0.000000  0.000000  0.326667  \n",
      "45062      0.00000  0.049080  0.000000  0.000000  0.040000  \n",
      "13648      0.00000  0.110429  0.000000  0.000000  0.160000  \n"
     ]
    }
   ],
   "source": [
    "valid_y = ds.get_data('valid_target')\n",
    "#valid_y.set_index('client_id', inplace = True)\n",
    "\n",
    "valid_x = ds.get_data('valid_x')\n",
    "valid_x = normalize([\"s1\", \"s2\", \"s3\", \"s4\", \"s5\", \"s6\", \"s7\", \"s8\", \"s9\", \"s10\", \"s11\"], prepare_featured_data_v2(valid_x))\n",
    "\n",
    "valid_dataset = Ds(data = valid_x, labels = valid_y)\n",
    "\n",
    "total = len(valid_dataset)\n",
    "valid_loader = DataLoader(valid_dataset, batch_size=total)  \n",
    "\n"
   ]
  },
  {
   "cell_type": "code",
   "execution_count": 58,
   "metadata": {},
   "outputs": [
    {
     "name": "stdout",
     "output_type": "stream",
     "text": [
      "ACURACY: 2776\n"
     ]
    }
   ],
   "source": [
    "def validateNet(net):\n",
    "    r, idd = iter(valid_loader).next()\n",
    "    output = net(r.cuda()).cpu()\n",
    "    \n",
    "    pred = output.data.max(1, keepdim=True)[1]\n",
    "   # print(pred)\n",
    "    print('ACURACY: {}'.format((pred.flatten() == idd).sum()))\n",
    "    \n",
    "validateNet(network)"
   ]
  },
  {
   "cell_type": "code",
   "execution_count": 194,
   "metadata": {},
   "outputs": [
    {
     "name": "stdout",
     "output_type": "stream",
     "text": [
      "5855\n"
     ]
    }
   ],
   "source": [
    "print(total)"
   ]
  },
  {
   "cell_type": "code",
   "execution_count": null,
   "metadata": {},
   "outputs": [],
   "source": []
  }
 ],
 "metadata": {
  "kernelspec": {
   "display_name": "Python 3",
   "language": "python",
   "name": "python3"
  },
  "language_info": {
   "codemirror_mode": {
    "name": "ipython",
    "version": 3
   },
   "file_extension": ".py",
   "mimetype": "text/x-python",
   "name": "python",
   "nbconvert_exporter": "python",
   "pygments_lexer": "ipython3",
   "version": "3.7.4"
  }
 },
 "nbformat": 4,
 "nbformat_minor": 4
}
