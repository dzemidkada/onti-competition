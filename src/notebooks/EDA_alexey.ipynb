{
 "cells": [
  {
   "cell_type": "code",
   "execution_count": 90,
   "metadata": {},
   "outputs": [
    {
     "name": "stdout",
     "output_type": "stream",
     "text": [
      "The autoreload extension is already loaded. To reload it, use:\n",
      "  %reload_ext autoreload\n"
     ]
    }
   ],
   "source": [
    "import os\n",
    "import sys\n",
    "\n",
    "PROJECT_ROOT = os.path.join(os.path.abspath(os.path.dirname('./../../')), 'src')\n",
    "\n",
    "sys.path.append(PROJECT_ROOT)\n",
    "\n",
    "import warnings\n",
    "warnings.filterwarnings('ignore')\n",
    "\n",
    "%load_ext autoreload\n",
    "%autoreload 2"
   ]
  },
  {
   "cell_type": "code",
   "execution_count": 91,
   "metadata": {},
   "outputs": [],
   "source": [
    "conf = {'groups_desc': 'data/small_group_description.csv',\n",
    "    'train_x': 'data/transactions_train.csv',\n",
    "    'test_x': 'data/transactions_test.csv',\n",
    "    'train_target': 'data/train_target.csv',\n",
    "    'test_target': 'data/test.csv'}"
   ]
  },
  {
   "cell_type": "code",
   "execution_count": 92,
   "metadata": {},
   "outputs": [],
   "source": [
    "from data_utils import *"
   ]
  },
  {
   "cell_type": "code",
   "execution_count": 277,
   "metadata": {},
   "outputs": [
    {
     "name": "stdout",
     "output_type": "stream",
     "text": [
      "Reading groups_desc...\n",
      "Reading train_x...\n",
      "Reading test_x...\n",
      "Reading train_target...\n",
      "Reading test_target...\n",
      "Validation split: by clientID\n",
      "Wall time: 1min 29s\n"
     ]
    }
   ],
   "source": [
    "%%time\n",
    "\n",
    "ds = DataSource(conf)\n",
    "ds.read_data()\n",
    "ds.validation_split()"
   ]
  },
  {
   "cell_type": "code",
   "execution_count": 94,
   "metadata": {},
   "outputs": [],
   "source": [
    "train_target = ds.get_data('train_target')\n",
    "train_target.set_index('client_id', inplace=True)"
   ]
  },
  {
   "cell_type": "code",
   "execution_count": 345,
   "metadata": {},
   "outputs": [
    {
     "data": {
      "text/plain": [
       "small_group         Парикмахерские\n",
       "small_group_code                32\n",
       "Name: 32, dtype: object"
      ]
     },
     "execution_count": 345,
     "metadata": {},
     "output_type": "execute_result"
    }
   ],
   "source": [
    "ds.get_data('groups_desc').iloc[32]"
   ]
  },
  {
   "cell_type": "code",
   "execution_count": 96,
   "metadata": {},
   "outputs": [
    {
     "name": "stdout",
     "output_type": "stream",
     "text": [
      "   client_id  trans_date  small_group  amount_rur\n",
      "0       3694          26            1      10.006\n",
      "1       3694          29            3      54.955\n",
      "2       3694          31            1      10.945\n",
      "3       3694          34           36      61.721\n",
      "4       3694          36           25       4.579\n"
     ]
    }
   ],
   "source": [
    "train_x = ds.get_data('train_x')\n",
    "print(train_x.head())\n"
   ]
  },
  {
   "cell_type": "code",
   "execution_count": 97,
   "metadata": {},
   "outputs": [],
   "source": [
    "train_x['month_number'] = train_x['trans_date']//30"
   ]
  },
  {
   "cell_type": "code",
   "execution_count": 301,
   "metadata": {},
   "outputs": [
    {
     "name": "stdout",
     "output_type": "stream",
     "text": [
      "          client_id  trans_date  small_group  amount_rur  month_number\n",
      "13585551       1046           0            1      44.330             0\n",
      "13585552       1046           1           61     169.612             0\n",
      "13585553       1046           2            2      49.850             0\n",
      "13585554       1046           3            2      63.162             0\n",
      "13585555       1046           3            1      46.966             0\n",
      "13585556       1046           4           34      16.578             0\n",
      "13585557       1046           4           36      49.351             0\n",
      "13585558       1046           6           34      11.342             0\n",
      "13585559       1046           7           36      22.554             0\n",
      "13585560       1046           9           34      14.706             0\n",
      "13585561       1046          10           34       2.015             0\n",
      "13585562       1046          13           34       3.364             0\n",
      "13585563       1046          13           15       7.511             0\n",
      "13585564       1046          13            2      40.970             0\n",
      "13585565       1046          15           34      11.559             0\n",
      "13585566       1046          17           34       6.599             0\n",
      "13585567       1046          20           34       6.383             0\n",
      "13585568       1046          21           15      49.899             0\n",
      "13585569       1046          23           34       7.849             0\n",
      "13585570       1046          26            3       8.625             0\n",
      "13585571       1046          27           34      20.195             0\n",
      "13585572       1046          27           15      19.644             0\n",
      "13585573       1046          27            3       4.579             0\n",
      "13585574       1046          31           34       4.269             1\n",
      "13585575       1046          31            3      25.014             1\n",
      "13585576       1046          33           34      46.233             1\n",
      "13585577       1046          33            2      57.555             1\n",
      "13585578       1046          34           34      18.070             1\n",
      "13585579       1046          34           15      27.133             1\n",
      "13585580       1046          34            1      33.568             1\n",
      "...             ...         ...          ...         ...           ...\n",
      "13586339       1046         710           18      12.938            23\n",
      "13586340       1046         710            1      36.139            23\n",
      "13586341       1046         711            2      52.535            23\n",
      "13586342       1046         711           18      18.976            23\n",
      "13586343       1046         711            1     145.812            23\n",
      "13586344       1046         712           18      13.738            23\n",
      "13586345       1046         713           11      29.844            23\n",
      "13586346       1046         715            3      13.738            23\n",
      "13586347       1046         715           18      12.938            23\n",
      "13586348       1046         716           18      13.738            23\n",
      "13586349       1046         717           18      13.738            23\n",
      "13586350       1046         717            1      14.230            23\n",
      "13586351       1046         718           18      13.738            23\n",
      "13586352       1046         719           18      13.052            23\n",
      "13586353       1046         721           34      86.965            24\n",
      "13586354       1046         721            1      89.172            24\n",
      "13586355       1046         722           34      68.013            24\n",
      "13586356       1046         722           82      17.357            24\n",
      "13586357       1046         722           18      13.738            24\n",
      "13586358       1046         722            1      14.920            24\n",
      "13586359       1046         723           18      12.938            24\n",
      "13586360       1046         724           18      12.938            24\n",
      "13586361       1046         725           18      13.738            24\n",
      "13586362       1046         727           82      16.345            24\n",
      "13586363       1046         727            3      13.738            24\n",
      "13586364       1046         727           18      13.738            24\n",
      "13586365       1046         728           18     269.047            24\n",
      "13586366       1046         728            1       9.982            24\n",
      "13586367       1046         729           18       6.469            24\n",
      "13586368       1046         729           11      18.753            24\n",
      "\n",
      "[818 rows x 5 columns]\n"
     ]
    }
   ],
   "source": [
    "train_x.head()\n",
    "print(train_x[train_x[\"client_id\"]==1046])"
   ]
  },
  {
   "cell_type": "code",
   "execution_count": 304,
   "metadata": {},
   "outputs": [
    {
     "data": {
      "text/plain": [
       "1150"
      ]
     },
     "execution_count": 304,
     "metadata": {},
     "output_type": "execute_result"
    }
   ],
   "source": [
    "#print(train_target.head())\n",
    "print(train_target.join(train_x))\n",
    "#train_x.groupby(['client_id'])[\"trans_date\"].agg({\"tr_c\": \"count\"}).tr_c.max()\n"
   ]
  },
  {
   "cell_type": "code",
   "execution_count": 348,
   "metadata": {},
   "outputs": [
    {
     "name": "stdout",
     "output_type": "stream",
     "text": [
      "             s\n",
      "client_id     \n",
      "4          720\n",
      "6          730\n",
      "10         706\n",
      "11         812\n",
      "13         754\n",
      "                s1\n",
      "bins              \n",
      "0     46951.066337\n",
      "1     62098.233179\n",
      "2     28172.588712\n",
      "3     60398.480530\n"
     ]
    }
   ],
   "source": [
    "gr1 = train_x.groupby(['client_id'])[\"amount_rur\"].agg({\"s1\": \"sum\"})\n",
    "print(gr.head())\n",
    "#gr.set_index('client_id')\n",
    "joined = train_target.join(gr1)\n",
    "zero =  joined.groupby('bins').agg({'s1':'mean'})\n",
    "print(zero.head())\n",
    "#print(joined[joined[\"client_id\"]==3694].head(20))"
   ]
  },
  {
   "cell_type": "code",
   "execution_count": 349,
   "metadata": {},
   "outputs": [
    {
     "name": "stdout",
     "output_type": "stream",
     "text": [
      "               s2\n",
      "bins             \n",
      "0     2589.771139\n",
      "1     3578.836228\n",
      "2     1581.059080\n",
      "3     3319.801815\n"
     ]
    }
   ],
   "source": [
    "gr2 = train_x.groupby(['client_id'])[\"amount_rur\"].agg({\"s2\": \"max\"})\n",
    "joined = train_target.join(gr2)\n",
    "zero =  joined.groupby('bins').agg({'s2':'mean'})\n",
    "print(zero.head())"
   ]
  },
  {
   "cell_type": "code",
   "execution_count": 350,
   "metadata": {},
   "outputs": [
    {
     "name": "stdout",
     "output_type": "stream",
     "text": [
      "            s3\n",
      "bins          \n",
      "0     0.294786\n",
      "1     0.557962\n",
      "2     0.196993\n",
      "3     0.396317\n"
     ]
    }
   ],
   "source": [
    "gr3 = train_x.groupby(['client_id'])[\"amount_rur\"].agg({\"s3\": \"min\"})\n",
    "joined = train_target.join(gr3)\n",
    "zero =  joined.groupby('bins').agg({'s3':'mean'})\n",
    "print(zero.head())"
   ]
  },
  {
   "cell_type": "code",
   "execution_count": 352,
   "metadata": {},
   "outputs": [
    {
     "name": "stdout",
     "output_type": "stream",
     "text": [
      "             c4\n",
      "bins           \n",
      "0     47.302038\n",
      "1     47.874875\n",
      "2     44.124609\n",
      "3     48.889878\n"
     ]
    }
   ],
   "source": [
    "grouped_by_group = train_x.groupby(['client_id', 'small_group'], as_index = False)['amount_rur'].agg({'c4':'min'})\n",
    "gr4  = grouped_by_group.loc[grouped_by_group.groupby('client_id')['c4'].idxmax()][['client_id','small_group']]\n",
    "gr4.columns = ['client_id', 'c4']\n",
    "gr4.set_index('client_id', inplace=True)\n",
    "\n",
    "joined = train_target.join(gr4)\n",
    "zero =  joined.groupby('bins').agg({'c4':'mean'})\n",
    "print(zero.head())"
   ]
  },
  {
   "cell_type": "code",
   "execution_count": 353,
   "metadata": {},
   "outputs": [
    {
     "name": "stdout",
     "output_type": "stream",
     "text": [
      "            c5\n",
      "bins          \n",
      "0     7.071834\n",
      "1     5.203390\n",
      "2     7.260412\n",
      "3     6.230630\n"
     ]
    }
   ],
   "source": [
    "grouped_by_group = train_x.groupby(['client_id', 'small_group'], as_index = False)['amount_rur'].agg({'c5':'sum'})\n",
    "gr5  = grouped_by_group.loc[grouped_by_group.groupby('client_id')['c5'].idxmax()][['client_id','small_group']]\n",
    "gr5.columns = ['client_id', 'c5']\n",
    "gr5.set_index('client_id', inplace=True)\n",
    "\n",
    "joined = train_target.join(gr5)\n",
    "zero =  joined.groupby('bins').agg({'c5':'mean'})\n",
    "print(zero.head())"
   ]
  },
  {
   "cell_type": "code",
   "execution_count": 99,
   "metadata": {},
   "outputs": [],
   "source": [
    "grouped = train_x.groupby(['client_id', 'month_number'], as_index=False)"
   ]
  },
  {
   "cell_type": "code",
   "execution_count": 100,
   "metadata": {},
   "outputs": [],
   "source": [
    "\n",
    "client_per_month_spendings = train_x.groupby(['client_id', 'month_number']).agg({\"amount_rur\": \"sum\"}).groupby('client_id').agg({'amount_rur':'mean'})"
   ]
  },
  {
   "cell_type": "code",
   "execution_count": 101,
   "metadata": {},
   "outputs": [
    {
     "name": "stdout",
     "output_type": "stream",
     "text": [
      "client_id\n",
      "4         720\n",
      "6         730\n",
      "10        706\n",
      "11        812\n",
      "13        754\n",
      "14       1097\n",
      "17       1053\n",
      "19        721\n",
      "20        821\n",
      "25        996\n",
      "27        811\n",
      "28        765\n",
      "31        834\n",
      "32       1035\n",
      "33        908\n",
      "34       1033\n",
      "36        819\n",
      "37        772\n",
      "38        720\n",
      "39        760\n",
      "40        916\n",
      "42        792\n",
      "43        917\n",
      "44        714\n",
      "46        866\n",
      "47        749\n",
      "48        920\n",
      "49        868\n",
      "50        970\n",
      "51        791\n",
      "         ... \n",
      "49949     732\n",
      "49950    1001\n",
      "49951     915\n",
      "49955     856\n",
      "49957     870\n",
      "49959     963\n",
      "49961    1083\n",
      "49962     829\n",
      "49963     747\n",
      "49967     702\n",
      "49968     775\n",
      "49971     704\n",
      "49972    1082\n",
      "49973     904\n",
      "49974    1129\n",
      "49975    1030\n",
      "49977     721\n",
      "49978     960\n",
      "49980    1023\n",
      "49981     757\n",
      "49982     957\n",
      "49983     904\n",
      "49987    1120\n",
      "49988     777\n",
      "49989     706\n",
      "49990     721\n",
      "49995     969\n",
      "49996    1138\n",
      "49997     715\n",
      "49998     782\n",
      "Length: 24145, dtype: int64\n"
     ]
    }
   ],
   "source": [
    "print(train_x.groupby(['client_id']).size())\n"
   ]
  },
  {
   "cell_type": "code",
   "execution_count": 102,
   "metadata": {},
   "outputs": [
    {
     "name": "stdout",
     "output_type": "stream",
     "text": [
      "           freq_group\n",
      "client_id            \n",
      "4                   1\n",
      "6                   1\n",
      "10                  1\n",
      "11                  1\n",
      "13                 11\n"
     ]
    }
   ],
   "source": [
    "grouped_by_group = train_x.groupby(['client_id', 'small_group'], as_index = False)['small_group'].agg({'freq':'count'})\n",
    "client_per_max_frequent_category  = grouped_by_group.loc[grouped_by_group.groupby('client_id')['freq'].idxmax()][['client_id','small_group']]\n",
    "client_per_max_frequent_category.columns = ['client_id', 'freq_group']\n",
    "client_per_max_frequent_category.set_index('client_id', inplace=True)\n",
    "print(client_per_max_frequent_category.head())\n"
   ]
  },
  {
   "cell_type": "code",
   "execution_count": 181,
   "metadata": {},
   "outputs": [
    {
     "name": "stdout",
     "output_type": "stream",
     "text": [
      "2765.900111078898\n",
      "553.1800222157797\n"
     ]
    }
   ],
   "source": [
    "# Вычислием среднюю максимальную транзакцию по клиентам. Далее найдем среднее отклонение максим транзакций по клиентам. \n",
    "# Это позволит найти \"большие\" транзакции , как mean + std. у нас не гаусово распределение, но все же оперделим значение \"большой\" транзакции \n",
    "# именно так.\n",
    "grouped_by_max = train_x.groupby(['client_id'], as_index = False).agg({'amount_rur':'max'})\n",
    "print(grouped_by_max.agg({'amount_rur':'mean'})['amount_rur'] )\n",
    "large_transactions = grouped_by_max.agg({'amount_rur':'mean'})['amount_rur'] /5\n",
    "print(large_transactions)"
   ]
  },
  {
   "cell_type": "code",
   "execution_count": 182,
   "metadata": {},
   "outputs": [
    {
     "data": {
      "text/plain": [
       "20288"
      ]
     },
     "execution_count": 182,
     "metadata": {},
     "output_type": "execute_result"
    }
   ],
   "source": [
    "len(train_x[train_x['amount_rur'] > large_transactions]['client_id'].unique())"
   ]
  },
  {
   "cell_type": "code",
   "execution_count": 189,
   "metadata": {},
   "outputs": [
    {
     "name": "stdout",
     "output_type": "stream",
     "text": [
      "0.8787477259259386\n"
     ]
    }
   ],
   "source": [
    "grouped_by_min = train_x.groupby(['client_id'], as_index = False).agg({'amount_rur':'min'})\n",
    "small_transactions = grouped_by_min.agg({'amount_rur':'mean'})['amount_rur'] + grouped_by_min.agg({'amount_rur':'std'})['amount_rur']\n",
    "print(small_transactions)"
   ]
  },
  {
   "cell_type": "code",
   "execution_count": 190,
   "metadata": {},
   "outputs": [
    {
     "data": {
      "text/plain": [
       "21109"
      ]
     },
     "execution_count": 190,
     "metadata": {},
     "output_type": "execute_result"
    }
   ],
   "source": [
    "len(train_x[train_x['amount_rur'] < small_transactions]['client_id'].unique())"
   ]
  },
  {
   "cell_type": "code",
   "execution_count": 191,
   "metadata": {},
   "outputs": [],
   "source": [
    "client_per_small_count = train_x[train_x['amount_rur'] < small_transactions].groupby(['client_id'])['trans_date'].agg({'small_num':'count'})"
   ]
  },
  {
   "cell_type": "code",
   "execution_count": 203,
   "metadata": {},
   "outputs": [],
   "source": [
    "client_per_large_count = train_x[train_x['amount_rur'] > large_transactions].groupby(['client_id'])['trans_date'].agg({'large_num':'count'})"
   ]
  },
  {
   "cell_type": "code",
   "execution_count": 109,
   "metadata": {},
   "outputs": [],
   "source": [
    "clean_trans_per_month = train_x.groupby(['client_id', 'month_number'])['amount_rur'].agg({\"tran_num_mean\": \"count\"}).groupby('client_id').agg({'tran_num_mean':'mean'})"
   ]
  },
  {
   "cell_type": "code",
   "execution_count": 193,
   "metadata": {},
   "outputs": [
    {
     "name": "stdout",
     "output_type": "stream",
     "text": [
      "                max\n",
      "client_id          \n",
      "4          1341.802\n",
      "6           315.781\n",
      "10          654.893\n",
      "11         2105.058\n",
      "13         1190.322\n"
     ]
    }
   ],
   "source": [
    "client_max = train_x.groupby(['client_id'])['amount_rur'].agg({\"max\": \"max\"})\n",
    "print(client_max.head())"
   ]
  },
  {
   "cell_type": "code",
   "execution_count": 204,
   "metadata": {},
   "outputs": [
    {
     "name": "stdout",
     "output_type": "stream",
     "text": [
      "(24145, 1)\n",
      "(24145, 1)\n",
      "(24145, 1)\n",
      "(21109, 1)\n",
      "(20288, 1)\n"
     ]
    }
   ],
   "source": [
    "print(client_per_month_spendings.shape)\n",
    "print(client_per_max_frequent_category.shape)\n",
    "print(clean_trans_per_month.shape)\n",
    "print(client_per_small_count.shape)\n",
    "print(client_per_large_count.shape)"
   ]
  },
  {
   "cell_type": "code",
   "execution_count": 355,
   "metadata": {},
   "outputs": [
    {
     "name": "stdout",
     "output_type": "stream",
     "text": [
      "                  s1        s2     s3  c4  c5\n",
      "client_id                                    \n",
      "4          28404.121  1341.802  0.043   2   1\n",
      "6          15720.739   315.781  0.045  80   1\n",
      "10         34419.365   654.893  0.045  23   1\n",
      "11         26789.404  2105.058  0.388  66  88\n",
      "13         17337.467  1190.322  0.043  83  11\n",
      "14         26622.629  1167.291  0.043   5   1\n",
      "17         58337.998  5692.843  0.028  54   1\n",
      "19         46941.495  2049.338  0.259  26   1\n",
      "20         79997.006  3213.706  0.043  73  13\n",
      "25         77245.103  2564.078  0.647  65   1\n"
     ]
    }
   ],
   "source": [
    "res_df = gr1.join(gr2).join(gr3).join(gr4).join(gr5)\n",
    "res_df.fillna(0, inplace=True)\n",
    "print(res_df.head(10))\n"
   ]
  },
  {
   "cell_type": "code",
   "execution_count": 206,
   "metadata": {},
   "outputs": [
    {
     "name": "stdout",
     "output_type": "stream",
     "text": [
      "           amount_rur       max  tran_num_mean  small_num  large_num\n",
      "client_id                                                           \n",
      "4            0.004118  0.003215       0.036727   0.013043   0.003053\n",
      "6            0.001931  0.000650       0.055090   0.004348   0.000000\n",
      "10           0.005155  0.001498       0.011018   0.004348   0.003053\n",
      "11           0.003840  0.005123       0.205669   0.121739   0.010687\n",
      "13           0.002210  0.002836       0.099162   0.034783   0.001527\n",
      "14           0.004002  0.002779       0.812957   0.021739   0.004580\n",
      "17           0.009279  0.014092       0.648224   0.008696   0.010687\n",
      "19           0.007315  0.004984       0.038563   0.017391   0.009160\n",
      "20           0.013014  0.007895       0.222196   0.043478   0.035115\n",
      "25           0.012539  0.006271       0.543553   0.013043   0.025954\n",
      "27           0.003371  0.001135       0.203832   0.034783   0.000000\n",
      "28           0.003478  0.003980       0.119361   0.008696   0.004580\n",
      "31           0.010891  0.012248       0.246068   0.008696   0.022901\n",
      "32           0.008042  0.002946       0.615170   0.004348   0.013740\n",
      "33           0.006409  0.006045       0.381956   0.017391   0.013740\n",
      "34           0.005300  0.003711       0.611497   0.030435   0.007634\n",
      "36           0.003970  0.005077       0.218523   0.034783   0.003053\n",
      "37           0.009251  0.006704       0.132216   0.000000   0.022901\n",
      "38           0.004323  0.003105       0.036727   0.000000   0.004580\n",
      "39           0.018466  0.014671       0.110180   0.004348   0.050382\n",
      "40           0.003804  0.001589       0.396647   0.021739   0.001527\n",
      "42           0.002279  0.001023       0.168942   0.008696   0.000000\n",
      "43           0.008365  0.001965       0.398483   0.008696   0.021374\n",
      "44           0.006737  0.005830       0.025709   0.008696   0.027481\n",
      "46           0.011619  0.003896       0.304830   0.008696   0.007634\n",
      "47           0.003842  0.000916       0.089980   0.013043   0.000000\n",
      "48           0.006513  0.006867       0.403992   0.017391   0.010687\n",
      "49           0.038046  0.033855       0.308503   0.008696   0.116031\n",
      "50           0.003545  0.001096       0.495808   0.021739   0.000000\n",
      "51           0.004575  0.007302       0.167106   0.008696   0.004580\n"
     ]
    }
   ],
   "source": [
    "from sklearn import preprocessing\n",
    "\n",
    "column_names_to_normalize = [\"amount_rur\", \"max\", \"tran_num_mean\", \"small_num\", \"large_num\"]\n",
    "x = res_df[column_names_to_normalize].values\n",
    "min_max_scaler = preprocessing.MinMaxScaler()\n",
    "x_scaled = min_max_scaler.fit_transform(x)\n",
    "\n",
    "df_temp = pd.DataFrame(x_scaled, columns=column_names_to_normalize, index = res_df.index)\n",
    "res_df[column_names_to_normalize] = df_temp\n",
    "\n",
    "print(res_df.head(30))"
   ]
  },
  {
   "cell_type": "code",
   "execution_count": 208,
   "metadata": {},
   "outputs": [
    {
     "name": "stdout",
     "output_type": "stream",
     "text": [
      "           amount_rur       max  tran_num_mean  small_num  large_num\n",
      "client_id                                                           \n",
      "4            0.004118  0.003215       0.036727   0.013043   0.003053\n",
      "6            0.001931  0.000650       0.055090   0.004348   0.000000\n",
      "10           0.005155  0.001498       0.011018   0.004348   0.003053\n",
      "11           0.003840  0.005123       0.205669   0.121739   0.010687\n",
      "13           0.002210  0.002836       0.099162   0.034783   0.001527\n",
      "14           0.004002  0.002779       0.812957   0.021739   0.004580\n",
      "17           0.009279  0.014092       0.648224   0.008696   0.010687\n",
      "19           0.007315  0.004984       0.038563   0.017391   0.009160\n",
      "20           0.013014  0.007895       0.222196   0.043478   0.035115\n",
      "25           0.012539  0.006271       0.543553   0.013043   0.025954\n",
      "27           0.003371  0.001135       0.203832   0.034783   0.000000\n",
      "28           0.003478  0.003980       0.119361   0.008696   0.004580\n",
      "31           0.010891  0.012248       0.246068   0.008696   0.022901\n",
      "32           0.008042  0.002946       0.615170   0.004348   0.013740\n",
      "33           0.006409  0.006045       0.381956   0.017391   0.013740\n",
      "34           0.005300  0.003711       0.611497   0.030435   0.007634\n",
      "36           0.003970  0.005077       0.218523   0.034783   0.003053\n",
      "37           0.009251  0.006704       0.132216   0.000000   0.022901\n",
      "38           0.004323  0.003105       0.036727   0.000000   0.004580\n",
      "39           0.018466  0.014671       0.110180   0.004348   0.050382\n",
      "40           0.003804  0.001589       0.396647   0.021739   0.001527\n",
      "42           0.002279  0.001023       0.168942   0.008696   0.000000\n",
      "43           0.008365  0.001965       0.398483   0.008696   0.021374\n",
      "44           0.006737  0.005830       0.025709   0.008696   0.027481\n",
      "46           0.011619  0.003896       0.304830   0.008696   0.007634\n",
      "47           0.003842  0.000916       0.089980   0.013043   0.000000\n",
      "48           0.006513  0.006867       0.403992   0.017391   0.010687\n",
      "49           0.038046  0.033855       0.308503   0.008696   0.116031\n",
      "50           0.003545  0.001096       0.495808   0.021739   0.000000\n",
      "51           0.004575  0.007302       0.167106   0.008696   0.004580\n"
     ]
    }
   ],
   "source": [
    "print(res_df.head(30))"
   ]
  },
  {
   "cell_type": "code",
   "execution_count": 221,
   "metadata": {},
   "outputs": [
    {
     "name": "stdout",
     "output_type": "stream",
     "text": [
      "           bins  amount_rur       max  tran_num_mean  small_num  large_num\n",
      "client_id                                                                 \n",
      "1046          0    0.006557  0.002887       0.216687   0.004348   0.013740\n",
      "34089         2    0.003849  0.001817       0.150579   0.052174   0.003053\n",
      "34848         1    0.001940  0.000135       0.506826   0.069565   0.000000\n",
      "47076         3    0.001374  0.001214       0.154251   0.060870   0.000000\n",
      "10938         2    0.002294  0.001216       0.806148   0.013043   0.000000\n",
      "42965         1    0.006287  0.000979       0.780439   0.000000   0.000000\n",
      "21594         0    0.004509  0.001277       0.315848   0.008696   0.001527\n",
      "7952          1    0.005988  0.002905       0.123034   0.008696   0.003053\n",
      "33810         0    0.003719  0.002122       0.097325   0.017391   0.003053\n",
      "11061         2    0.002631  0.005940       0.462754   0.065217   0.001527\n",
      "30905         0    0.002047  0.001221       0.192814   0.043478   0.000000\n",
      "29440         3    0.004245  0.001349       0.593134   0.013043   0.001527\n",
      "48434         0    0.007781  0.002940       0.071617   0.069565   0.019847\n",
      "17276         3    0.009721  0.006157       0.530699   0.013043   0.021374\n",
      "34732         3    0.005741  0.003283       0.179960   0.000000   0.001527\n",
      "34843         2    0.005220  0.002772       0.604152   0.078261   0.001527\n",
      "24284         1    0.013376  0.014753       0.653733   0.017391   0.045802\n",
      "2409          2    0.004201  0.001885       0.299321   0.130435   0.003053\n",
      "30746         1    0.035746  0.012774       0.398483   0.026087   0.137405\n",
      "21766         1    0.011806  0.014517       0.196487   0.000000   0.019847\n",
      "8809          1    0.011508  0.007092       0.381956   0.000000   0.022901\n",
      "14896         2    0.003047  0.002275       0.126707   0.043478   0.003053\n",
      "20246         1    0.006475  0.009564       0.022036   0.000000   0.004580\n",
      "33557         1    0.004979  0.001726       0.143234   0.000000   0.004580\n",
      "35077         1    0.008436  0.003493       0.150579   0.030435   0.015267\n",
      "32680         1    0.008719  0.007413       0.161597   0.021739   0.033588\n",
      "39162         1    0.002919  0.001229       0.319521   0.260870   0.000000\n",
      "29018         0    0.020510  0.012403       0.279122   0.013043   0.065649\n",
      "38659         3    0.005680  0.006276       0.157924   0.004348   0.016794\n",
      "14414         3    0.027859  0.023500       0.712495   0.000000   0.070229\n",
      "24145\n"
     ]
    }
   ],
   "source": [
    "train_dataset = Ds(data = res_df, labels = train_target)\n",
    "print(len(train_dataset))\n",
    "train_loader = DataLoader(train_dataset, batch_size=2000, shuffle=True)  "
   ]
  },
  {
   "cell_type": "code",
   "execution_count": 244,
   "metadata": {},
   "outputs": [],
   "source": [
    "def prepare_featured_data(df):\n",
    "    df['month_number'] = df['trans_date']//30\n",
    "    per_month = df.groupby(['client_id', 'month_number']).agg({\"amount_rur\": \"sum\"}).groupby('client_id').agg({'amount_rur':'mean'})\n",
    "    #print(per_month.head())\n",
    "    large_count = df[df['amount_rur'] > 500].groupby(['client_id'])['trans_date'].agg({'large_num':'count'})\n",
    "    #print(large_count.head())\n",
    "    small_count = df[df['amount_rur'] < 1].groupby(['client_id'])['trans_date'].agg({'small_num':'count'})\n",
    "    #print(small_count.head())\n",
    "    trans_per_month = df.groupby(['client_id', 'month_number'])['amount_rur'].agg({\"tran_num_mean\": \"count\"}).groupby('client_id').agg({'tran_num_mean':'mean'})\n",
    "    #print(trans_per_month.head())\n",
    "    client_max = df.groupby(['client_id'])['amount_rur'].agg({\"max\": \"max\"})\n",
    "    #print(client_max.head())\n",
    "    res = per_month.join(client_max).join(trans_per_month).join(small_count).join(large_count)\n",
    "    res.fillna(0, inplace=True)\n",
    "    return res\n",
    "    "
   ]
  },
  {
   "cell_type": "code",
   "execution_count": 245,
   "metadata": {},
   "outputs": [],
   "source": [
    "def normalize(column_names_to_normalize, df):\n",
    "    x = df[column_names_to_normalize].values\n",
    "    min_max_scaler = preprocessing.MinMaxScaler()\n",
    "    x_scaled = min_max_scaler.fit_transform(x)\n",
    "    \n",
    "    df_temp = pd.DataFrame(x_scaled, columns=column_names_to_normalize, index = df.index)\n",
    "    df[column_names_to_normalize] = df_temp\n",
    "    return df"
   ]
  },
  {
   "cell_type": "code",
   "execution_count": 246,
   "metadata": {},
   "outputs": [],
   "source": [
    "from torch import nn\n",
    "import torch.nn.functional as F\n",
    "\n",
    "class Net(nn.Module):\n",
    "    def __init__(self):\n",
    "        super().__init__()\n",
    "        \n",
    "        self.hidden0 = nn.Linear(5, 8)\n",
    "        self.hidden1 = nn.Linear(8, 16)\n",
    "        self.hidden2 = nn.Linear(16, 32)\n",
    "        self.bn1 = nn.BatchNorm1d(64)\n",
    "        self.output = nn.Linear(32, 4)\n",
    "\n",
    "        \n",
    "    def forward(self, x):\n",
    "        x = F.relu(self.hidden0(x)) \n",
    "        x = F.relu(self.hidden1(x)) \n",
    "        x = F.relu(self.hidden2(x)) \n",
    "        return F.log_softmax(self.output(x))\n",
    "        "
   ]
  },
  {
   "cell_type": "code",
   "execution_count": 247,
   "metadata": {},
   "outputs": [],
   "source": [
    "from torch.utils.data import DataLoader, Dataset\n",
    "import pandas as pd\n",
    "import torchvision\n",
    "\n",
    "class Ds(Dataset):\n",
    "    \n",
    "    def __init__(self, data, labels):\n",
    "        self.data = labels.join(data)\n",
    "        print(self.data.head(30))\n",
    "        \n",
    "    def __len__(self):\n",
    "        return len(self.data)\n",
    "    \n",
    "    def __getitem__(self, index):\n",
    "        x = self.data.iloc[index, 1:]\n",
    "        y = self.data.iloc[index, 0]\n",
    "\n",
    "        return torch.tensor(x), torch.tensor(y)"
   ]
  },
  {
   "cell_type": "code",
   "execution_count": 357,
   "metadata": {},
   "outputs": [
    {
     "name": "stdout",
     "output_type": "stream",
     "text": [
      "           bins\n",
      "client_id      \n",
      "14410         1\n",
      "35898         3\n",
      "9192          0\n",
      "25355         0\n",
      "42168         0\n",
      "                 s1        s2        s3        c4        c5\n",
      "client_id                                                  \n",
      "41504      0.003969  0.001189  0.067082  0.026178  0.006024\n",
      "41507      0.020618  0.056461  0.006537  0.633508  0.084337\n",
      "41510      0.001602  0.000378  0.006848  0.329843  0.006024\n",
      "41512      0.013895  0.006330  0.006537  0.345550  0.006024\n",
      "41513      0.003874  0.001851  0.010739  0.361257  0.006024\n",
      "           bins        s1        s2        s3        c4        c5\n",
      "client_id                                                        \n",
      "1046          0  0.007128  0.002887  0.085447  0.026178  0.006024\n",
      "34089         2  0.004184  0.001817  0.006537  0.240838  0.006024\n",
      "34848         1  0.002109  0.000135  0.006537  0.104712  0.006024\n",
      "47076         3  0.001494  0.001214  0.067082  0.115183  0.006024\n",
      "10938         2  0.002494  0.001216  0.011829  0.240838  0.006024\n",
      "42965         1  0.006834  0.000979  0.149572  0.392670  0.006024\n",
      "21594         0  0.004901  0.001277  0.013385  0.167539  0.006024\n",
      "7952          1  0.006509  0.002905  0.006537  0.392670  0.006024\n",
      "33810         0  0.004043  0.002122  0.006537  0.277487  0.006024\n",
      "11061         2  0.002860  0.005940  0.006537  0.026178  0.006024\n",
      "30905         0  0.002225  0.001221  0.014163  0.073298  0.006024\n",
      "29440         3  0.004614  0.001349  0.028327  0.109948  0.006024\n",
      "48434         0  0.008458  0.002940  0.006693  0.471204  0.885542\n",
      "17276         3  0.010568  0.006157  0.092451  0.439791  0.006024\n",
      "34732         3  0.006240  0.003283  0.209961  0.335079  0.006024\n",
      "34843         2  0.005674  0.002772  0.006537  0.109948  0.006024\n",
      "24284         1  0.014540  0.014753  0.067082  0.282723  0.006024\n",
      "2409          2  0.004566  0.001885  0.000000  0.104712  0.006024\n",
      "30746         1  0.038857  0.012774  0.006537  0.115183  0.144578\n",
      "21766         1  0.012833  0.014517  0.216031  0.507853  0.006024\n",
      "8809          1  0.012509  0.007092  0.283424  0.026178  0.006024\n",
      "14896         2  0.003312  0.002275  0.006537  0.335079  0.006024\n",
      "20246         1  0.007039  0.009564  0.228016  0.319372  0.126506\n",
      "33557         1  0.005412  0.001726  0.142412  0.240838  0.006024\n",
      "35077         1  0.009170  0.003493  0.049650  0.282723  0.006024\n",
      "32680         1  0.009478  0.007413  0.006537  0.240838  0.144578\n",
      "39162         1  0.003173  0.001229  0.006537  0.225131  0.006024\n",
      "29018         0  0.022295  0.012403  0.046848  0.115183  0.265060\n",
      "38659         3  0.006175  0.006276  0.108171  0.282723  0.006024\n",
      "14414         3  0.030283  0.023500  0.228016  0.172775  0.481928\n"
     ]
    }
   ],
   "source": [
    "train_y = ds.get_data('train_target')\n",
    "#print(train_y.head())\n",
    "#train_y.set_index('client_id', inplace=True)\n",
    "\n",
    "train_x = ds.get_data('train_x')\n",
    "\n",
    "valid_y = train_y.iloc[20000:, : ]\n",
    "print(valid_y.head())\n",
    "#train_y = train_y.iloc[:20000, : ]\n",
    "processed = normalize([\"s1\", \"s2\", \"s3\", \"c4\", \"c5\"], res_df)\n",
    "valid_processed = processed.iloc[20000:, : ]\n",
    "print(valid_processed.head())\n",
    "#processed = processed.iloc[:20000, : ]\n",
    "\n",
    "train_dataset = Ds(data = processed, labels = train_y)\n",
    "train_loader = DataLoader(train_dataset, batch_size=2000, shuffle=True)  "
   ]
  },
  {
   "cell_type": "code",
   "execution_count": 358,
   "metadata": {},
   "outputs": [],
   "source": [
    "train_y = train_y.iloc[:20000, : ]\n",
    "processed = processed.iloc[:20000, :]"
   ]
  },
  {
   "cell_type": "code",
   "execution_count": 249,
   "metadata": {},
   "outputs": [],
   "source": [
    "import torch \n",
    "is_cuda = torch.cuda.is_available()\n",
    "if is_cuda:\n",
    "    device = torch.device(\"cuda\"),\n",
    "else:\n",
    "    device = torch.device(\"cpu\")"
   ]
  },
  {
   "cell_type": "code",
   "execution_count": 250,
   "metadata": {},
   "outputs": [
    {
     "name": "stdout",
     "output_type": "stream",
     "text": [
      "Train Epoch: 1 \tLoss: 1.380920\n",
      "Train Epoch: 2 \tLoss: 1.374123\n",
      "Train Epoch: 3 \tLoss: 1.372923\n",
      "Train Epoch: 4 \tLoss: 1.348212\n",
      "Train Epoch: 5 \tLoss: 1.345523\n",
      "Train Epoch: 6 \tLoss: 1.275716\n",
      "Train Epoch: 7 \tLoss: 1.309435\n",
      "Train Epoch: 8 \tLoss: 1.305176\n",
      "Train Epoch: 9 \tLoss: 1.246177\n"
     ]
    }
   ],
   "source": [
    "import numpy as np\n",
    "import torch.optim as optim\n",
    "\n",
    "learning_rate = 0.01\n",
    "momentum = 0.5\n",
    "\n",
    "network = Net().to(device)\n",
    "optimizer = optim.Adam(network.parameters(), lr=learning_rate)\n",
    "\n",
    "for epoch in range(1, 10):\n",
    "    network.train()\n",
    "    for batch_idx, (data, target) in enumerate(train_loader):\n",
    "        #if batch_idx > 2460:\n",
    "            #output = network(data.cuda())\n",
    "            #pred = output.data.max(1, keepdim=True)[1]\n",
    "            #print('ACURACY: {}'.format((pred.flatten() == target).sum()))\n",
    "       # else:\n",
    "            optimizer.zero_grad()\n",
    "            output = network(data.to(device))\n",
    "            loss = F.cross_entropy(output, target.to(device)).to(device)\n",
    "            loss.backward()\n",
    "            optimizer.step()\n",
    "    print('Train Epoch: {} \\tLoss: {:.6f}'.format(\n",
    "            epoch, loss.item()))"
   ]
  },
  {
   "cell_type": "code",
   "execution_count": 171,
   "metadata": {},
   "outputs": [
    {
     "name": "stdout",
     "output_type": "stream",
     "text": [
      "11972\n"
     ]
    }
   ],
   "source": [
    "print(len(res_df[res_df['large_num']>0]))"
   ]
  },
  {
   "cell_type": "code",
   "execution_count": 297,
   "metadata": {},
   "outputs": [
    {
     "data": {
      "text/plain": [
       "0.25018094089264176"
      ]
     },
     "execution_count": 297,
     "metadata": {},
     "output_type": "execute_result"
    }
   ],
   "source": [
    "from sklearn.ensemble import AdaBoostClassifier\n",
    "clf = AdaBoostClassifier(n_estimators=150, random_state=0)\n",
    "\n",
    "# похоже где-то ошибка, возможно, где криво джоинится по айди клиента. Либо фичи полное говно\n",
    "clf.fit(processed[[\"s1\", \"s2\", \"s3\", \"c4\", \"c5\"]].values,train_y['bins'].values)\n",
    "clf.score(valid_processed[[\"s1\", \"s2\", \"s3\", \"c4\", \"c5\"]].values,valid_y['bins'].values)"
   ]
  },
  {
   "cell_type": "code",
   "execution_count": 283,
   "metadata": {},
   "outputs": [
    {
     "name": "stdout",
     "output_type": "stream",
     "text": [
      "0        28571\n",
      "1        27046\n",
      "2        13240\n",
      "3        19974\n",
      "4        10505\n",
      "5        36581\n",
      "6        13137\n",
      "7        29069\n",
      "8        14334\n",
      "9         7432\n",
      "10       44221\n",
      "11       40799\n",
      "12       36456\n",
      "13         818\n",
      "14       35103\n",
      "15       48997\n",
      "16        4975\n",
      "17        4013\n",
      "18       30955\n",
      "19       26778\n",
      "20         709\n",
      "21        9410\n",
      "22       15212\n",
      "23       11347\n",
      "24         766\n",
      "25          55\n",
      "26        2493\n",
      "27       46885\n",
      "28       39401\n",
      "29        8934\n",
      "         ...  \n",
      "19970     5048\n",
      "19971    21095\n",
      "19972    29891\n",
      "19973     6069\n",
      "19974    39294\n",
      "19975    41915\n",
      "19976    44830\n",
      "19977    44923\n",
      "19978    25431\n",
      "19979    27672\n",
      "19980    21382\n",
      "19981     6221\n",
      "19982    30173\n",
      "19983    28339\n",
      "19984    24920\n",
      "19985    17978\n",
      "19986    16100\n",
      "19987    41833\n",
      "19988    26651\n",
      "19989    37973\n",
      "19990    14102\n",
      "19991    26308\n",
      "19992      910\n",
      "19993    48964\n",
      "19994    13582\n",
      "19995     2565\n",
      "19996    31255\n",
      "19997    31539\n",
      "19998     4288\n",
      "19999    15323\n",
      "Name: client_id, Length: 20000, dtype: int64\n"
     ]
    }
   ],
   "source": [
    "test_y = ds.get_data('test_target')\n",
    "print(ds.get_data('test_target').iloc[:, 0])\n",
    "#test_y.set_index('client_id', inplace=True)\n",
    "#test_x = ds.get_data('test_x')\n",
    "\n",
    "#test_processed = normalize([\"amount_rur\", \"max\", \"tran_num_mean\", \"small_num\", \"large_num\"], prepare_featured_data(test_x))\n",
    "#clf.score(test_processed[[\"amount_rur\", \"max\", \"tran_num_mean\", \"small_num\", \"large_num\"]].values,test_y.values)"
   ]
  },
  {
   "cell_type": "code",
   "execution_count": 274,
   "metadata": {},
   "outputs": [
    {
     "name": "stdout",
     "output_type": "stream",
     "text": [
      "Empty DataFrame\n",
      "Columns: []\n",
      "Index: [28571, 27046, 13240, 19974, 10505]\n"
     ]
    }
   ],
   "source": [
    "print(test_y.head())"
   ]
  },
  {
   "cell_type": "code",
   "execution_count": null,
   "metadata": {},
   "outputs": [],
   "source": []
  }
 ],
 "metadata": {
  "kernelspec": {
   "display_name": "Python 3",
   "language": "python",
   "name": "python3"
  },
  "language_info": {
   "codemirror_mode": {
    "name": "ipython",
    "version": 3
   },
   "file_extension": ".py",
   "mimetype": "text/x-python",
   "name": "python",
   "nbconvert_exporter": "python",
   "pygments_lexer": "ipython3",
   "version": "3.6.8"
  }
 },
 "nbformat": 4,
 "nbformat_minor": 2
}
