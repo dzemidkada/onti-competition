{
 "cells": [
  {
   "cell_type": "markdown",
   "metadata": {},
   "source": [
    "<h1>Суть задачи:</h1>\n",
    "\n",
    "Есть лог транзакций клиентов банка.  Со следующими колонками:\n",
    "\n",
    "client_id  trans_date  small_group  amount_rur\n",
    "\n",
    "<b>trans_date</b> - в формате кол-ва дней от начала \"эксперимента\"\n",
    "<b>small_group</b> - группа, в которую попадает конкретная трата. Всего таких групп 204."
   ]
  },
  {
   "cell_type": "code",
   "execution_count": 277,
   "metadata": {},
   "outputs": [
    {
     "name": "stdout",
     "output_type": "stream",
     "text": [
      "The autoreload extension is already loaded. To reload it, use:\n",
      "  %reload_ext autoreload\n"
     ]
    }
   ],
   "source": [
    "import os\n",
    "import sys\n",
    "\n",
    "PROJECT_ROOT = '/'\n",
    "\n",
    "sys.path.append(PROJECT_ROOT)\n",
    "\n",
    "import warnings\n",
    "warnings.filterwarnings('ignore')\n",
    "\n",
    "%load_ext autoreload\n",
    "%autoreload 2"
   ]
  },
  {
   "cell_type": "markdown",
   "metadata": {},
   "source": [
    "<h1>Чтение данных</h1>\n",
    "\n",
    "Данные разбиваются на трнировочный и валидацонный датасеты. Валидационный будет в последствие использовать "
   ]
  },
  {
   "cell_type": "code",
   "execution_count": 321,
   "metadata": {},
   "outputs": [],
   "source": [
    "from torch.utils.data import DataLoader, Dataset\n",
    "import pandas as pd\n",
    "import torchvision\n",
    "\n",
    "class Ds(Dataset):\n",
    "    \n",
    "    def __init__(self, data, labels):\n",
    "        self.data = labels.join(data)\n",
    "        print(self.data.head(30))\n",
    "        \n",
    "    def __len__(self):\n",
    "        return len(self.data)\n",
    "    \n",
    "    def __getitem__(self, index):\n",
    "        x = self.data.iloc[index, 1:]\n",
    "        y = self.data.iloc[index, 0]\n",
    "\n",
    "        print(self.data.head())\n",
    "        return torch.tensor(x), torch.tensor(y)"
   ]
  },
  {
   "cell_type": "code",
   "execution_count": 278,
   "metadata": {},
   "outputs": [
    {
     "name": "stdout",
     "output_type": "stream",
     "text": [
      "Reading groups_desc...\n",
      "Reading train_x...\n",
      "Reading test_x...\n",
      "Reading train_target...\n",
      "Reading test_target...\n",
      "Validation split: by clientID\n",
      "Dataset: groups_desc, shape: (204, 2)\n",
      "Dataset: train_x, shape: (21295142, 4)\n",
      "Dataset: test_x, shape: (17667328, 4)\n",
      "Dataset: train_target, shape: (24145, 2)\n",
      "Dataset: test_target, shape: (20000, 1)\n",
      "Dataset: valid_x, shape: (5155435, 4)\n",
      "Dataset: valid_target, shape: (5855, 2)\n"
     ]
    }
   ],
   "source": [
    "from data_utils import *\n",
    "\n",
    "conf = {'groups_desc': 'data/small_group_description.csv',\n",
    "    'train_x': 'data/transactions_train.csv',\n",
    "    'test_x': 'data/transactions_test.csv',\n",
    "    'train_target': 'data/train_target.csv',\n",
    "    'test_target': 'data/test.csv'}\n",
    "\n",
    "ds = DataSource(conf)\n",
    "ds.read_data()\n",
    "ds.validation_split()\n",
    "print(ds)\n",
    "\n",
    "train_target = ds.get_data('train_target')\n",
    "train_target.set_index('client_id', inplace=True)\n",
    "\n",
    "train_x = ds.get_data('train_x')\n",
    "valid_x = ds.get_data('valid_x')\n",
    "\n",
    "valid_target = ds.get_data('valid_target')\n",
    "valid_target.set_index('client_id', inplace = True)\n",
    "\n"
   ]
  },
  {
   "cell_type": "markdown",
   "metadata": {},
   "source": [
    "<b>Пример данных</b>"
   ]
  },
  {
   "cell_type": "code",
   "execution_count": 279,
   "metadata": {},
   "outputs": [
    {
     "name": "stdout",
     "output_type": "stream",
     "text": [
      "   client_id  trans_date  small_group  amount_rur\n",
      "0       3694          26            1      10.006\n",
      "1       3694          29            3      54.955\n",
      "2       3694          31            1      10.945\n",
      "3       3694          34           36      61.721\n",
      "4       3694          36           25       4.579\n"
     ]
    }
   ],
   "source": [
    "print(train_x.head())"
   ]
  },
  {
   "cell_type": "markdown",
   "metadata": {},
   "source": [
    "<b>Примеры групп:</b>"
   ]
  },
  {
   "cell_type": "code",
   "execution_count": 282,
   "metadata": {},
   "outputs": [
    {
     "data": {
      "text/html": [
       "<div>\n",
       "<style scoped>\n",
       "    .dataframe tbody tr th:only-of-type {\n",
       "        vertical-align: middle;\n",
       "    }\n",
       "\n",
       "    .dataframe tbody tr th {\n",
       "        vertical-align: top;\n",
       "    }\n",
       "\n",
       "    .dataframe thead th {\n",
       "        text-align: right;\n",
       "    }\n",
       "</style>\n",
       "<table border=\"1\" class=\"dataframe\">\n",
       "  <thead>\n",
       "    <tr style=\"text-align: right;\">\n",
       "      <th></th>\n",
       "      <th>small_group</th>\n",
       "      <th>small_group_code</th>\n",
       "    </tr>\n",
       "  </thead>\n",
       "  <tbody>\n",
       "    <tr>\n",
       "      <th>0</th>\n",
       "      <td>Зоотовары</td>\n",
       "      <td>0</td>\n",
       "    </tr>\n",
       "    <tr>\n",
       "      <th>1</th>\n",
       "      <td>Сетевые супермаркеты и продуктовые магазины</td>\n",
       "      <td>1</td>\n",
       "    </tr>\n",
       "    <tr>\n",
       "      <th>2</th>\n",
       "      <td>Обслуживание существующего автомобиля (АЗС)</td>\n",
       "      <td>2</td>\n",
       "    </tr>\n",
       "    <tr>\n",
       "      <th>3</th>\n",
       "      <td>Оплата телефона и связи</td>\n",
       "      <td>3</td>\n",
       "    </tr>\n",
       "    <tr>\n",
       "      <th>4</th>\n",
       "      <td>Аптеки</td>\n",
       "      <td>4</td>\n",
       "    </tr>\n",
       "    <tr>\n",
       "      <th>5</th>\n",
       "      <td>Авиабилеты</td>\n",
       "      <td>5</td>\n",
       "    </tr>\n",
       "    <tr>\n",
       "      <th>6</th>\n",
       "      <td>Duty-free</td>\n",
       "      <td>6</td>\n",
       "    </tr>\n",
       "    <tr>\n",
       "      <th>7</th>\n",
       "      <td>Страховка</td>\n",
       "      <td>7</td>\n",
       "    </tr>\n",
       "    <tr>\n",
       "      <th>8</th>\n",
       "      <td>Спорт</td>\n",
       "      <td>8</td>\n",
       "    </tr>\n",
       "    <tr>\n",
       "      <th>9</th>\n",
       "      <td>Универсальные товары</td>\n",
       "      <td>9</td>\n",
       "    </tr>\n",
       "  </tbody>\n",
       "</table>\n",
       "</div>"
      ],
      "text/plain": [
       "                                   small_group  small_group_code\n",
       "0                                    Зоотовары                 0\n",
       "1  Сетевые супермаркеты и продуктовые магазины                 1\n",
       "2  Обслуживание существующего автомобиля (АЗС)                 2\n",
       "3                      Оплата телефона и связи                 3\n",
       "4                                       Аптеки                 4\n",
       "5                                   Авиабилеты                 5\n",
       "6                                    Duty-free                 6\n",
       "7                                    Страховка                 7\n",
       "8                                        Спорт                 8\n",
       "9                         Универсальные товары                 9"
      ]
     },
     "execution_count": 282,
     "metadata": {},
     "output_type": "execute_result"
    }
   ],
   "source": [
    "ds.get_data('groups_desc').head(10)"
   ]
  },
  {
   "cell_type": "markdown",
   "metadata": {},
   "source": [
    "<h1>Подход к решению.</h1>"
   ]
  },
  {
   "cell_type": "markdown",
   "metadata": {},
   "source": [
    "Я пробовал решить задачу используя обычную нейронную сеть. Для этого, выделялись из данных определенные признаки, на которых после обучалась сеть. Как показала практика, сеть, обученная \n",
    "на плохих признаках действует примерно аналогично рандому, с точностью 25 процентов. Поэтому выделял наиболее значимые признаки. Подбирал их следующим образом: с помощью группировки смотрел,\n",
    "какое среднее значение признака для определенной группы. Чем больше разброс между этими значениями, тем лучше фича. При этом для количественных признаков, учитывалось еще и абсолютное значение,\n",
    "чем больше - тем лучше, потому что в случае небольшого \"среднего\" числа на группу, для многих клиентов этот признак будет равен 0. А на таких разряженных данных сеть довольно плохо обучается.\n",
    "Использовал такие фичи:<br/>\n",
    "\n",
    "1) Максимум, минимум, сумма, среднее всех трат клиента.<br/>\n",
    "2) Группы с наибольшими тратами<br/>\n",
    "3) Кол-во \"больших\" транзакций, т.е. кол-во транзакций с суммой выше порогового значение<br/>\n",
    "4) Кол-во малых транзакий - меньше парогового значения.<br/>\n",
    "5) Кол-во транзакций по опредлеленным группам, в качестве групп искал варианты с наибольшим разбросом значенией среди возрастов. <br/>\n",
    "\n",
    "и др.\n",
    "\n",
    "Пробовал фичи с привязкой по времени , но особого результата такой подход не дал.\n",
    "\n",
    "всего было выбрано порядка 20 фич.\n",
    "    \n"
   ]
  },
  {
   "cell_type": "code",
   "execution_count": 280,
   "metadata": {},
   "outputs": [
    {
     "name": "stdout",
     "output_type": "stream",
     "text": [
      "              t\n",
      "bins           \n",
      "0     37.468760\n",
      "1     21.035560\n",
      "2     32.630453\n",
      "3     44.701286\n"
     ]
    }
   ],
   "source": [
    "master_class_group = train_x.groupby(['client_id']).agg(t=('small_group', lambda x: x[x == 86].sum()))\n",
    "m =  train_target.join(master_class_group).groupby('bins').agg({'t':'mean'})\n",
    "print(m.head())"
   ]
  },
  {
   "cell_type": "code",
   "execution_count": 306,
   "metadata": {},
   "outputs": [],
   "source": [
    "def prepare_featured_data_v2(df):\n",
    "    gr1 = df.groupby(['client_id']).agg({'amount_rur':[\"sum\",'max','min','mean',lambda x: x[x > 700].count(),lambda x: x[x < 10].count()],\n",
    "                                         'trans_date':['count'],\n",
    "                                            'small_group':['nunique', lambda x: x[x == 4].sum(), lambda x: x[x == 27].sum(),lambda x: x[x == 61].sum(),\n",
    "                                                          lambda x: x[x == 77].sum(),lambda x: x[x == 86].sum(),\n",
    "                                                          lambda x: x[x == 8].sum(),lambda x: x[x == 11].sum(),\n",
    "                                                          lambda x: x[x == 54].sum(),lambda x: x[x == 65].sum(),\n",
    "                                                          lambda x: x[x == 67].sum()]\n",
    "                                        })\n",
    "        \n",
    "    gr4_by_group = df.groupby(['client_id', 'small_group'], as_index = False)['amount_rur'].agg({'s4':'sum'})\n",
    "    gr4  = gr4_by_group.loc[gr4_by_group.groupby('client_id')['s4'].idxmin()][['client_id','small_group']]\n",
    "    gr4.columns = ['client_id', 's4']\n",
    "    gr4.set_index('client_id', inplace=True)\n",
    "\n",
    "    \n",
    "    gr5_by_group = df.groupby(['client_id', 'small_group'], as_index = False)['amount_rur'].agg({'s5':'sum'})\n",
    "    gr5  = gr5_by_group.loc[gr5_by_group.groupby('client_id')['s5'].idxmax()][['client_id','small_group']]\n",
    "    gr5.columns = ['client_id', 's5']\n",
    "    gr5.set_index('client_id', inplace=True)\n",
    "    \n",
    "    res = gr1.join(gr4).join(gr5)\n",
    "    \n",
    "    res.columns = list(range(1,21))\n",
    "    res.fillna(0, inplace=True)\n",
    "    return res\n",
    "    "
   ]
  },
  {
   "cell_type": "code",
   "execution_count": 305,
   "metadata": {},
   "outputs": [],
   "source": [
    "from sklearn import preprocessing\n",
    "\n",
    "def normalize(column_names_to_normalize, df):\n",
    "    x = df[column_names_to_normalize].values\n",
    "    min_max_scaler = preprocessing.MinMaxScaler()\n",
    "    x_scaled = min_max_scaler.fit_transform(x)\n",
    "    \n",
    "    df_temp = pd.DataFrame(x_scaled, columns=column_names_to_normalize, index = df.index)\n",
    "    df[column_names_to_normalize] = df_temp\n",
    "    return df"
   ]
  },
  {
   "cell_type": "code",
   "execution_count": 346,
   "metadata": {},
   "outputs": [],
   "source": [
    "from torch import nn\n",
    "import torch.nn.functional as F\n",
    "\n",
    "class Net(nn.Module):\n",
    "    def __init__(self):\n",
    "        super().__init__()\n",
    "        \n",
    "        self.hidden0 = nn.Linear(20, 8)\n",
    "        self.hidden1 = nn.Linear(8, 16)\n",
    "        #self.drop = nn.Dropout(0.3)\n",
    "        \n",
    "        self.bn1 = nn.BatchNorm1d(8)\n",
    "        self.bn2 = nn.BatchNorm1d(16)\n",
    "        self.output = nn.Linear(16, 4)\n",
    "\n",
    "        \n",
    "    def forward(self, x):\n",
    "        x = F.relu(self.bn1(self.hidden0(x)))\n",
    "        x = F.relu(self.bn2(self.hidden1(x)))\n",
    "        return F.log_softmax(self.output(x))\n",
    "        "
   ]
  },
  {
   "cell_type": "code",
   "execution_count": 307,
   "metadata": {},
   "outputs": [
    {
     "name": "stdout",
     "output_type": "stream",
     "text": [
      "           bins         1         2         3         4         5         6  \\\n",
      "client_id                                                                     \n",
      "1046          0  0.007128  0.002887  0.085447  0.006923  0.007949  0.170481   \n",
      "34089         2  0.004184  0.001817  0.006537  0.004260  0.001590  0.287185   \n",
      "34848         1  0.002109  0.000135  0.006537  0.001526  0.000000  0.454233   \n",
      "47076         3  0.001494  0.001214  0.067082  0.001491  0.000000  0.506865   \n",
      "10938         2  0.002494  0.001216  0.011829  0.001449  0.000000  0.556064   \n",
      "42965         1  0.006834  0.000979  0.149572  0.004577  0.000000  0.202517   \n",
      "21594         0  0.004901  0.001277  0.013385  0.004387  0.000000  0.257437   \n",
      "7952          1  0.006509  0.002905  0.006537  0.006796  0.003180  0.081236   \n",
      "33810         0  0.004043  0.002122  0.006537  0.004309  0.003180  0.226545   \n",
      "11061         2  0.002860  0.005940  0.006537  0.002221  0.001590  0.491991   \n",
      "30905         0  0.002225  0.001221  0.014163  0.002158  0.000000  0.430206   \n",
      "29440         3  0.004614  0.001349  0.028327  0.003381  0.000000  0.371854   \n",
      "48434         0  0.008458  0.002940  0.006693  0.009206  0.012719  0.291762   \n",
      "17276         3  0.010568  0.006157  0.092451  0.008362  0.012719  0.259725   \n",
      "34732         3  0.006240  0.003283  0.209961  0.006226  0.001590  0.145309   \n",
      "34843         2  0.005674  0.002772  0.006537  0.004183  0.001590  0.307780   \n",
      "24284         1  0.014540  0.014753  0.067082  0.010795  0.033386  0.305492   \n",
      "2409          2  0.004566  0.001885  0.000000  0.004131  0.001590  0.350114   \n",
      "30746         1  0.038857  0.012774  0.006537  0.033864  0.106518  0.052632   \n",
      "21766         1  0.012833  0.014517  0.216031  0.012707  0.015898  0.156751   \n",
      "8809          1  0.012509  0.007092  0.283424  0.010906  0.017488  0.102975   \n",
      "14896         2  0.003312  0.002275  0.006537  0.003437  0.003180  0.346682   \n",
      "20246         1  0.007039  0.009564  0.228016  0.007988  0.003180  0.231121   \n",
      "33557         1  0.005412  0.001726  0.142412  0.005555  0.003180  0.152174   \n",
      "35077         1  0.009170  0.003493  0.049650  0.009380  0.015898  0.076659   \n",
      "32680         1  0.009478  0.007413  0.006537  0.009616  0.031797  0.235698   \n",
      "39162         1  0.003173  0.001229  0.006537  0.002788  0.000000  0.449657   \n",
      "29018         0  0.022295  0.012403  0.046848  0.020906  0.046105  0.124714   \n",
      "38659         3  0.006175  0.006276  0.108171  0.006268  0.014308  0.258581   \n",
      "14414         3  0.030283  0.023500  0.228016  0.022071  0.046105  0.144165   \n",
      "\n",
      "                  7       8         9  ...        11        12   13        14  \\\n",
      "client_id                              ...                                      \n",
      "1046       0.262222  0.4750  0.047619  ...  0.004950  0.000000  0.0  0.014815   \n",
      "34089      0.182222  0.3875  0.135531  ...  0.000000  0.000000  0.0  0.000000   \n",
      "34848      0.613333  0.1625  0.150183  ...  0.000000  0.000000  0.0  0.000000   \n",
      "47076      0.186667  0.1625  0.161172  ...  0.000000  0.000000  0.0  0.000000   \n",
      "10938      0.975556  0.2250  0.003663  ...  0.000000  0.000000  0.0  0.000000   \n",
      "42965      0.944444  0.4875  0.150183  ...  0.009901  0.000000  0.0  0.007407   \n",
      "21594      0.382222  0.4625  0.227106  ...  0.014851  0.000000  0.0  0.000000   \n",
      "7952       0.148889  0.4750  0.172161  ...  0.004950  0.000000  0.0  0.022222   \n",
      "33810      0.117778  0.3875  0.150183  ...  0.000000  0.017241  0.0  0.022222   \n",
      "11061      0.560000  0.4125  0.095238  ...  0.000000  0.000000  0.0  0.007407   \n",
      "30905      0.233333  0.3250  0.073260  ...  0.019802  0.000000  0.0  0.000000   \n",
      "29440      0.717778  0.4250  0.300366  ...  0.079208  0.000000  0.0  0.007407   \n",
      "48434      0.086667  0.2625  0.018315  ...  0.000000  0.000000  0.0  0.007407   \n",
      "17276      0.642222  0.7125  0.172161  ...  0.000000  0.000000  0.0  0.037037   \n",
      "34732      0.217778  0.3500  0.161172  ...  0.049505  0.000000  0.0  0.022222   \n",
      "34843      0.731111  0.3750  0.205128  ...  0.000000  0.000000  0.0  0.007407   \n",
      "24284      0.791111  0.5125  0.223443  ...  0.000000  0.000000  0.0  0.007407   \n",
      "2409       0.362222  0.4875  0.051282  ...  0.000000  0.000000  0.0  0.029630   \n",
      "30746      0.482222  0.5125  0.157509  ...  0.009901  0.000000  0.0  0.014815   \n",
      "21766      0.237778  0.5625  0.128205  ...  0.103960  0.000000  0.0  0.051852   \n",
      "8809       0.462222  0.5250  0.223443  ...  0.000000  0.000000  0.0  0.014815   \n",
      "14896      0.153333  0.4250  0.183150  ...  0.049505  0.000000  0.0  0.022222   \n",
      "20246      0.026667  0.4125  0.699634  ...  0.004950  0.000000  0.0  0.022222   \n",
      "33557      0.173333  0.2750  0.377289  ...  0.000000  0.060345  0.0  0.007407   \n",
      "35077      0.182222  0.3750  0.600733  ...  0.029703  0.008621  0.0  0.022222   \n",
      "32680      0.195556  0.3750  0.293040  ...  0.000000  0.025862  0.0  0.000000   \n",
      "39162      0.386667  0.3375  0.098901  ...  0.004950  0.000000  0.0  0.014815   \n",
      "29018      0.337778  0.6250  0.150183  ...  0.158416  0.025862  0.0  0.066667   \n",
      "38659      0.191111  0.4250  0.168498  ...  0.004950  0.000000  0.0  0.007407   \n",
      "14414      0.862222  0.7000  0.201465  ...  0.009901  0.000000  0.0  0.096296   \n",
      "\n",
      "                 15        16        17        18        19        20  \n",
      "client_id                                                              \n",
      "1046       0.045000  0.000000  0.000000  0.000000  0.073684  0.006024  \n",
      "34089      0.078333  0.005848  0.000000  0.010135  0.089474  0.006024  \n",
      "34848      0.193333  0.000000  0.000000  0.037162  0.010526  0.006024  \n",
      "47076      0.055000  0.000000  0.000000  0.000000  0.094737  0.006024  \n",
      "10938      0.691667  0.000000  0.000000  0.000000  0.326316  0.006024  \n",
      "42965      0.256667  0.000000  0.008333  0.010135  0.357895  0.006024  \n",
      "21594      0.390000  0.011696  0.000000  0.000000  0.300000  0.006024  \n",
      "7952       0.030000  0.134503  0.008333  0.000000  0.010526  0.006024  \n",
      "33810      0.115000  0.000000  0.000000  0.000000  0.557895  0.006024  \n",
      "11061      0.078333  0.000000  0.008333  0.000000  0.478947  0.006024  \n",
      "30905      0.076667  0.000000  0.000000  0.000000  0.605263  0.006024  \n",
      "29440      0.068333  0.000000  0.008333  0.000000  0.547368  0.006024  \n",
      "48434      0.020000  0.000000  0.000000  0.006757  0.457895  0.885542  \n",
      "17276      0.173333  0.000000  0.008333  0.000000  0.421053  0.006024  \n",
      "34732      0.038333  0.000000  0.000000  0.000000  0.215789  0.006024  \n",
      "34843      0.058333  0.000000  0.000000  0.000000  0.042105  0.006024  \n",
      "24284      0.166667  0.005848  0.016667  0.006757  0.178947  0.006024  \n",
      "2409       0.151667  0.017544  0.008333  0.000000  0.500000  0.006024  \n",
      "30746      0.061667  0.000000  0.000000  0.000000  0.173684  0.144578  \n",
      "21766      0.006667  0.023392  0.016667  0.000000  0.200000  0.006024  \n",
      "8809       0.080000  0.000000  0.008333  0.000000  0.263158  0.006024  \n",
      "14896      0.205000  0.000000  0.000000  0.000000  0.089474  0.006024  \n",
      "20246      0.015000  0.000000  0.000000  0.000000  0.131579  0.126506  \n",
      "33557      0.015000  0.000000  0.000000  0.000000  0.126316  0.006024  \n",
      "35077      0.011667  0.005848  0.000000  0.000000  0.389474  0.006024  \n",
      "32680      0.040000  0.000000  0.000000  0.000000  0.173684  0.144578  \n",
      "39162      0.041667  0.000000  0.000000  0.000000  0.252632  0.006024  \n",
      "29018      0.126667  0.000000  0.000000  0.000000  0.389474  0.265060  \n",
      "38659      0.056667  0.005848  0.000000  0.000000  0.468421  0.006024  \n",
      "14414      0.456667  0.040936  0.008333  0.016892  0.389474  0.481928  \n",
      "\n",
      "[30 rows x 21 columns]\n"
     ]
    }
   ],
   "source": [
    "processed = normalize(list(range(1,21)), prepare_featured_data_v2(train_x))\n",
    "\n",
    "train_dataset = Ds(data = processed, labels = train_y)\n",
    "train_loader = DataLoader(train_dataset, batch_size=32, shuffle=True)  "
   ]
  },
  {
   "cell_type": "code",
   "execution_count": 388,
   "metadata": {},
   "outputs": [],
   "source": [
    "train_dataset = Ds(data = processed, labels = train_target)\n",
    "train_loader = DataLoader(train_dataset, batch_size=32, shuffle=True)  \n",
    "\n",
    "valid_dataset = Ds(data = valid_x, labels = valid_target)\n",
    "total = len(valid_dataset)\n",
    "valid_loader = DataLoader(valid_dataset, batch_size=total)  "
   ]
  },
  {
   "cell_type": "code",
   "execution_count": 358,
   "metadata": {},
   "outputs": [],
   "source": [
    "from torch.utils.data import DataLoader, Dataset\n",
    "import pandas as pd\n",
    "import torchvision\n",
    "\n",
    "class Ds(Dataset):\n",
    "    \n",
    "    def __init__(self, data, labels):\n",
    "        self.data = labels.join(data)\n",
    "        #print(self.data.head(30))\n",
    "        \n",
    "    def __len__(self):\n",
    "        return len(self.data)\n",
    "    \n",
    "    def __getitem__(self, index):\n",
    "        x = self.data.iloc[index, 1:]\n",
    "        y = self.data.iloc[index, 0]\n",
    "        \n",
    "        return torch.tensor(x.values).float(), torch.tensor(y)"
   ]
  },
  {
   "cell_type": "code",
   "execution_count": 409,
   "metadata": {},
   "outputs": [],
   "source": [
    "def validateNet(net, loader):\n",
    "    r, idd = iter(loader).next()\n",
    "    output = net(r.cuda()).cpu()\n",
    "    \n",
    "    pred = output.data.max(1, keepdim=True)[1]\n",
    "    return float((pred.flatten() == idd).sum().item())/len(pred)"
   ]
  },
  {
   "cell_type": "code",
   "execution_count": 410,
   "metadata": {},
   "outputs": [
    {
     "name": "stdout",
     "output_type": "stream",
     "text": [
      "Epoch 1/20\n",
      "Epoch 2/20\n",
      "Epoch 3/20\n",
      "Epoch 4/20\n",
      "Epoch 5/20\n",
      "Epoch 6/20\n",
      "Epoch 7/20\n",
      "Epoch 8/20\n",
      "Epoch 9/20\n",
      "Epoch 10/20\n",
      "Epoch 11/20\n",
      "Epoch 12/20\n",
      "Epoch 13/20\n",
      "Epoch 14/20\n",
      "Epoch 15/20\n",
      "Epoch 16/20\n",
      "Epoch 17/20\n",
      "Epoch 18/20\n",
      "Epoch 19/20\n",
      "Epoch 20/20\n"
     ]
    }
   ],
   "source": [
    "import numpy as np\n",
    "import torch.optim as optim\n",
    "\n",
    "learning_rate = 0.001\n",
    "num_epochs = 20\n",
    "\n",
    "network = Net().cuda()\n",
    "optimizer = optim.Adam(network.parameters(), lr=learning_rate)\n",
    "\n",
    "vizualization_data_loss = {}\n",
    "vizualization_data_acc = {}\n",
    "\n",
    "for epoch in range(1, num_epochs + 1):\n",
    "    print('Epoch {}/{}'.format(epoch, num_epochs))\n",
    "    network.train()\n",
    "    loss_values = []\n",
    "    \n",
    "    for batch_idx, (data, target) in enumerate(train_loader):\n",
    "            output = network(data.cuda())\n",
    "            loss = F.cross_entropy(output, target.cuda())\n",
    "            if(batch_idx % 10 == 0):\n",
    "                loss_values.append(loss.item())\n",
    "            \n",
    "            network.zero_grad()\n",
    "            loss.backward()\n",
    "            optimizer.step()\n",
    "            \n",
    "    vizualization_data_acc[epoch] = validateNet(network, valid_loader)         \n",
    "    vizualization_data_loss[epoch] = np.mean(loss_values)\n"
   ]
  },
  {
   "cell_type": "code",
   "execution_count": 415,
   "metadata": {},
   "outputs": [],
   "source": [
    "from matplotlib import pyplot as plt\n",
    "\n",
    "def plot_loss(d):\n",
    "    plt.plot([ k for k in d ], [ v for v in d.values() ])\n",
    "\n",
    "    plt.title(f'Model acc')\n",
    "    plt.ylabel('Acc')\n",
    "    plt.xlabel('Epoch')\n",
    "    plt.show()\n"
   ]
  },
  {
   "cell_type": "code",
   "execution_count": 396,
   "metadata": {},
   "outputs": [
    {
     "data": {
      "image/png": "[encoded data removed]",
      "text/plain": [
       "<Figure size 432x288 with 1 Axes>"
      ]
     },
     "metadata": {
      "needs_background": "light"
     },
     "output_type": "display_data"
    }
   ],
   "source": [
    "plot_loss(vizualization_data_loss)"
   ]
  },
  {
   "cell_type": "code",
   "execution_count": 416,
   "metadata": {},
   "outputs": [
    {
     "data": {
      "image/png": "[encoded data removed]",
      "text/plain": [
       "<Figure size 432x288 with 1 Axes>"
      ]
     },
     "metadata": {
      "needs_background": "light"
     },
     "output_type": "display_data"
    }
   ],
   "source": [
    "plot_loss(vizualization_data_acc)"
   ]
  },
  {
   "cell_type": "code",
   "execution_count": 194,
   "metadata": {},
   "outputs": [
    {
     "name": "stdout",
     "output_type": "stream",
     "text": [
      "5855\n"
     ]
    }
   ],
   "source": [
    "print(total)"
   ]
  },
  {
   "cell_type": "code",
   "execution_count": null,
   "metadata": {},
   "outputs": [],
   "source": []
  }
 ],
 "metadata": {
  "kernelspec": {
   "display_name": "Python 3",
   "language": "python",
   "name": "python3"
  },
  "language_info": {
   "codemirror_mode": {
    "name": "ipython",
    "version": 3
   },
   "file_extension": ".py",
   "mimetype": "text/x-python",
   "name": "python",
   "nbconvert_exporter": "python",
   "pygments_lexer": "ipython3",
   "version": "3.7.4"
  }
 },
 "nbformat": 4,
 "nbformat_minor": 4
}
